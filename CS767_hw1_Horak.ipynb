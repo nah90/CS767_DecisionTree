{
  "nbformat": 4,
  "nbformat_minor": 0,
  "metadata": {
    "colab": {
      "name": "CS767_hw1_Horak",
      "provenance": [],
      "collapsed_sections": [],
      "authorship_tag": "ABX9TyNmFe72lUwvgDrB0nvnx/bw",
      "include_colab_link": true
    },
    "kernelspec": {
      "name": "python3",
      "display_name": "Python 3"
    },
    "language_info": {
      "name": "python"
    }
  },
  "cells": [
    {
      "cell_type": "markdown",
      "metadata": {
        "id": "view-in-github",
        "colab_type": "text"
      },
      "source": [
        "<a href=\"https://colab.research.google.com/github/nah90/CS767_DecisionTree/blob/main/CS767_hw1_Horak.ipynb\" target=\"_parent\"><img src=\"https://colab.research.google.com/assets/colab-badge.svg\" alt=\"Open In Colab\"/></a>"
      ]
    },
    {
      "cell_type": "code",
      "metadata": {
        "id": "GFjXhbmfMtV_"
      },
      "source": [
        "##Setup\n",
        "\n",
        "#Python ≥3.5 is required\n",
        "import sys  #Constants, functions etc. of the Python interpreter\n",
        "assert sys.version_info >= (3, 5)\n",
        "\n",
        "#Scikit-learn ≥0.20 is required\n",
        "import sklearn\n",
        "assert sklearn.__version__ >= \"0.20\"\n",
        "\n",
        "#Common imports\n",
        "import os #Functions for interacting portably with OS, e.g., file system\n",
        "\n",
        "#mpl is prepared to plot pretty figures inline (for notebook format)\n",
        "%matplotlib inline\n",
        "import matplotlib as mpl\n",
        "import matplotlib.pyplot as plt\n",
        "mpl.rc('axes', labelsize=14)\n",
        "mpl.rc('xtick', labelsize=12)\n",
        "mpl.rc('ytick', labelsize=12)\n",
        "\n",
        "#Constants for where to save the figures\n",
        "PROJECT_ROOT_DIR = \".\"\n",
        "CHAPTER_ID = \"decision_trees\"\n",
        "IMAGES_PATH = os.path.join(PROJECT_ROOT_DIR, \"images\", CHAPTER_ID)\n",
        "os.makedirs(IMAGES_PATH, exist_ok=True)\n",
        "\n",
        "def save_fig(a_fig_id, a_tight_layout=True, a_fig_extension=\"png\", \n",
        "             a_resolution=300):\n",
        "    #postcondition: figure a_fig_id is at IMAGES_PATH with stated parameters\n",
        "\n",
        "    path = os.path.join(IMAGES_PATH, a_fig_id + \".\" + a_fig_extension)\n",
        "    print(\"Saving figure\", a_fig_id)\n",
        "    if a_tight_layout:\n",
        "        plt.tight_layout()\n",
        "    plt.savefig(path, format=a_fig_extension, dpi=a_resolution)"
      ],
      "execution_count": null,
      "outputs": []
    },
    {
      "cell_type": "code",
      "metadata": {
        "colab": {
          "resources": {
            "http://localhost:8080/nbextensions/google.colab/files.js": {
              "data": "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",
              "ok": true,
              "headers": [
                [
                  "content-type",
                  "application/javascript"
                ]
              ],
              "status": 200,
              "status_text": ""
            }
          },
          "base_uri": "https://localhost:8080/",
          "height": 180
        },
        "id": "3P5nYbC6K1mS",
        "outputId": "a0ea40b3-828f-48e8-c478-6d2c39ec825e"
      },
      "source": [
        "##Import and wrangle dataset\n",
        "\n",
        "import pandas as pd\n",
        "import io\n",
        "import numpy as np\n",
        "from google.colab import files\n",
        "\n",
        "COL_LIST=['Year_Birth','Income','Kidhome','MntWines','Education'] #Column names to use from imported dataset\n",
        "RANDOM_STATE=127 #Set constant for random_state\n",
        "SAMPLE_SIZE=100 #Set constant for sample size to allow for easy examination of tree changes by data\n",
        "                #inconsistencies and alterations\n",
        "MAX_DEPTH=4 #Set constant for maximum tree depth to 4 to create a moderately sized tree\n",
        "\n",
        "pd.options.mode.chained_assignment = None  #Turn off warning for chained assignment\n",
        "\n",
        "upload = files.upload() #Create variable for file upload\n",
        "mkt_df = pd.read_csv(io.BytesIO(upload['marketing_campaign.csv']), sep='\\t', header=0, usecols=COL_LIST)\n",
        "                      #Create DataFrame from .csv import\n",
        "\n",
        "last_col=mkt_df.pop('Education') #Pop target variable (Education) out from DataFrame\n",
        "mkt_df.insert((len(COL_LIST)-1),'Education',last_col) #Place target variable at the end (right side)\n",
        "                                                      #of DataFrame\n",
        "mkt_df.replace([np.inf, -np.inf], np.nan, inplace=True) #Replace all positive/negative infinity with np.nan\n",
        "mkt_df.replace(np.nan, 0, inplace=True) #Replace all np.nan with 0\n",
        "mkt_df.loc[mkt_df['Education'] == '2n Cycle', 'Education'] = 'Master' #Wrangle to change '2n Cycle'\n",
        "                                                                      #to 'Masters' - see Appendix [2]\n",
        "mkt_df=mkt_df.sample(n=SAMPLE_SIZE, random_state=RANDOM_STATE) #Take sample size with same random_state for reproducibility\n",
        "                                                              #with above defined constants, SAMPLE_SIZE and RANDOM_STATE\n",
        "\n",
        "#Dataset is now in a DataFrame object\n",
        "\n",
        "print(mkt_df.head()) #Print head of DataFrame for visualization purposes"
      ],
      "execution_count": null,
      "outputs": [
        {
          "output_type": "display_data",
          "data": {
            "text/html": [
              "\n",
              "     <input type=\"file\" id=\"files-4c88f857-37f7-4d93-91a7-a5de5a297590\" name=\"files[]\" multiple disabled\n",
              "        style=\"border:none\" />\n",
              "     <output id=\"result-4c88f857-37f7-4d93-91a7-a5de5a297590\">\n",
              "      Upload widget is only available when the cell has been executed in the\n",
              "      current browser session. Please rerun this cell to enable.\n",
              "      </output>\n",
              "      <script src=\"/nbextensions/google.colab/files.js\"></script> "
            ],
            "text/plain": [
              "<IPython.core.display.HTML object>"
            ]
          },
          "metadata": {}
        },
        {
          "output_type": "stream",
          "name": "stdout",
          "text": [
            "Saving marketing_campaign.csv to marketing_campaign.csv\n",
            "      Year_Birth   Income  Kidhome  MntWines   Education\n",
            "783         1972  30467.0        1         1  Graduation\n",
            "1637        1945  69755.0        0       217  Graduation\n",
            "1907        1986  33235.0        1        45  Graduation\n",
            "1110        1954  76773.0        0       516  Graduation\n",
            "1143        1962  33419.0        0        56         PhD\n"
          ]
        }
      ]
    },
    {
      "cell_type": "code",
      "metadata": {
        "colab": {
          "base_uri": "https://localhost:8080/"
        },
        "id": "r9E0Abq5MUIT",
        "outputId": "a60b323e-d168-451f-c45f-14e122f74b09"
      },
      "source": [
        "##Create tree\n",
        "\n",
        "from sklearn.tree import DecisionTreeClassifier\n",
        "from sklearn.preprocessing import LabelEncoder\n",
        "\n",
        "#https://www.kaggle.com/imakash3011/customer-personality-analysis Here is link to\n",
        "#the original dataset- (Question 2)\n",
        "\n",
        "print(\"========dataframe========\") #Print DataFrame object\n",
        "print(mkt_df) #df\n",
        "\n",
        "#Feature input and target output (Question 1)\n",
        "mkt_npa=mkt_df.to_numpy() #Change DataFrame to np.array\n",
        "X = mkt_npa[:,0:4] #X features - Year_Birth, Income, Kidhome, and MntWines\n",
        "print(\"========X = Year_Birth, Income, Kidhome, MntWines ========\") #View features (X)\n",
        "print(X) #Print X\n",
        "\n",
        "y = mkt_npa[:,4] #Y target - Education\n",
        "encoder= LabelEncoder() #Create encoder object\n",
        "y = encoder.fit_transform(y) #Encode for target variable (Education)\n",
        "print(\"========y = 0 = Basic, 1 = Graduation, 2 = Master, 3 = PhD ========\") #View target (y)\n",
        "print(y) #Print y\n",
        "\n",
        "#Use Gini measure in constructing decision tree\n",
        "tree_clf = DecisionTreeClassifier(max_depth=MAX_DEPTH, random_state=RANDOM_STATE) #Set parameters\n",
        "                                                      #for max_depth and random_state to defined constants\n",
        "                                                      #MAX_DEPTH and RANDOM_STATE\n",
        "#Apply the CART algorithm \n",
        "tree_clf.fit(X, y) #Fit tree"
      ],
      "execution_count": null,
      "outputs": [
        {
          "output_type": "stream",
          "name": "stdout",
          "text": [
            "========dataframe========\n",
            "      Year_Birth   Income  Kidhome  MntWines   Education\n",
            "783         1972  30467.0        1         1  Graduation\n",
            "1637        1945  69755.0        0       217  Graduation\n",
            "1907        1986  33235.0        1        45  Graduation\n",
            "1110        1954  76773.0        0       516  Graduation\n",
            "1143        1962  33419.0        0        56         PhD\n",
            "...          ...      ...      ...       ...         ...\n",
            "1801        1974  75702.0        0      1073  Graduation\n",
            "229         1986  34320.0        1         4         PhD\n",
            "224         1962  63887.0        0       897  Graduation\n",
            "488         1969  14045.0        1        11  Graduation\n",
            "869         1979  30545.0        1         4  Graduation\n",
            "\n",
            "[100 rows x 5 columns]\n",
            "========X = Year_Birth, Income, Kidhome, MntWines ========\n",
            "[[1972 30467.0 1 1]\n",
            " [1945 69755.0 0 217]\n",
            " [1986 33235.0 1 45]\n",
            " [1954 76773.0 0 516]\n",
            " [1962 33419.0 0 56]\n",
            " [1972 50334.0 0 284]\n",
            " [1956 77376.0 1 492]\n",
            " [1952 49638.0 0 18]\n",
            " [1954 62637.0 0 104]\n",
            " [1960 58401.0 0 10]\n",
            " [1974 20130.0 0 0]\n",
            " [1949 69372.0 0 997]\n",
            " [1966 48877.0 0 102]\n",
            " [1971 58350.0 0 493]\n",
            " [1992 15253.0 1 1]\n",
            " [1965 81051.0 0 1142]\n",
            " [1956 63943.0 0 423]\n",
            " [1948 78427.0 0 972]\n",
            " [1971 42403.0 1 22]\n",
            " [1964 55761.0 0 136]\n",
            " [1984 38680.0 1 11]\n",
            " [1963 34377.0 0 62]\n",
            " [1944 65275.0 0 388]\n",
            " [1972 51813.0 1 51]\n",
            " [1978 36975.0 1 10]\n",
            " [1964 40800.0 1 24]\n",
            " [1967 57136.0 0 267]\n",
            " [1971 74538.0 0 380]\n",
            " [1969 58917.0 1 151]\n",
            " [1978 41580.0 1 56]\n",
            " [1975 55801.0 1 367]\n",
            " [1948 56223.0 0 77]\n",
            " [1967 59235.0 1 448]\n",
            " [1982 160803.0 0 55]\n",
            " [1964 49096.0 1 144]\n",
            " [1965 42720.0 1 392]\n",
            " [1955 37244.0 1 18]\n",
            " [1962 47175.0 1 167]\n",
            " [1957 54237.0 0 267]\n",
            " [1986 79529.0 0 423]\n",
            " [1956 46086.0 0 244]\n",
            " [1984 42207.0 1 116]\n",
            " [1972 14188.0 0 2]\n",
            " [1960 17144.0 1 18]\n",
            " [1968 32889.0 1 28]\n",
            " [1983 82025.0 0 267]\n",
            " [1944 82716.0 0 606]\n",
            " [1972 46423.0 1 68]\n",
            " [1959 24221.0 0 8]\n",
            " [1970 43020.0 1 45]\n",
            " [1992 48789.0 0 351]\n",
            " [1977 40246.0 1 2]\n",
            " [1948 83790.0 0 1076]\n",
            " [1971 1730.0 0 1]\n",
            " [1976 68397.0 0 760]\n",
            " [1960 49154.0 1 206]\n",
            " [1972 38887.0 1 25]\n",
            " [1977 39771.0 1 6]\n",
            " [1973 48432.0 0 322]\n",
            " [1982 70038.0 0 587]\n",
            " [1970 22979.0 1 16]\n",
            " [1951 44689.0 1 18]\n",
            " [1953 84953.0 0 167]\n",
            " [1976 31859.0 1 3]\n",
            " [1966 49605.0 0 42]\n",
            " [1988 84219.0 0 434]\n",
            " [1982 69109.0 0 823]\n",
            " [1964 58512.0 0 895]\n",
            " [1983 36262.0 0 88]\n",
            " [1975 80427.0 0 1149]\n",
            " [1957 47320.0 0 200]\n",
            " [1956 34633.0 2 8]\n",
            " [1984 31761.0 1 19]\n",
            " [1984 25707.0 1 1]\n",
            " [1974 34421.0 1 3]\n",
            " [1969 40590.0 1 154]\n",
            " [1951 69702.0 0 664]\n",
            " [1974 39190.0 1 68]\n",
            " [1984 36108.0 1 141]\n",
            " [1988 41883.0 1 32]\n",
            " [1951 0.0 2 48]\n",
            " [1987 75794.0 0 754]\n",
            " [1955 51124.0 1 26]\n",
            " [1955 42586.0 1 194]\n",
            " [1985 92533.0 0 693]\n",
            " [1980 44010.0 1 186]\n",
            " [1948 77142.0 0 476]\n",
            " [1957 26091.0 1 15]\n",
            " [1991 68682.0 0 919]\n",
            " [1978 24882.0 1 1]\n",
            " [1974 20130.0 0 0]\n",
            " [1971 80573.0 0 829]\n",
            " [1952 72228.0 0 631]\n",
            " [1982 65169.0 0 1074]\n",
            " [1967 26642.0 1 13]\n",
            " [1974 75702.0 0 1073]\n",
            " [1986 34320.0 1 4]\n",
            " [1962 63887.0 0 897]\n",
            " [1969 14045.0 1 11]\n",
            " [1979 30545.0 1 4]]\n",
            "========y = 0 = Basic, 1 = Graduation, 2 = Master, 3 = PhD ========\n",
            "[1 1 1 1 3 2 3 1 2 1 2 1 1 1 0 3 1 2 3 1 1 1 1 1 2 1 1 1 1 1 1 3 2 3 1 1 1\n",
            " 2 3 1 1 2 0 2 2 1 3 2 1 1 1 1 2 1 3 3 3 1 3 3 1 1 2 1 2 1 1 1 2 3 1 1 1 0\n",
            " 1 1 3 3 1 1 1 1 2 1 1 1 1 1 3 0 2 2 1 1 3 1 3 1 1 1]\n"
          ]
        },
        {
          "output_type": "execute_result",
          "data": {
            "text/plain": [
              "DecisionTreeClassifier(ccp_alpha=0.0, class_weight=None, criterion='gini',\n",
              "                       max_depth=4, max_features=None, max_leaf_nodes=None,\n",
              "                       min_impurity_decrease=0.0, min_impurity_split=None,\n",
              "                       min_samples_leaf=1, min_samples_split=2,\n",
              "                       min_weight_fraction_leaf=0.0, presort='deprecated',\n",
              "                       random_state=127, splitter='best')"
            ]
          },
          "metadata": {},
          "execution_count": 39
        }
      ]
    },
    {
      "cell_type": "code",
      "metadata": {
        "colab": {
          "base_uri": "https://localhost:8080/",
          "height": 757
        },
        "id": "by-GSLnIaRyt",
        "outputId": "3ee26cc0-083d-4445-8f56-9680f19f960e"
      },
      "source": [
        "##Display tree\n",
        "\n",
        "from graphviz import Source # \"Graphical visualization\"\n",
        "from sklearn.tree import export_graphviz\n",
        "\n",
        "#Create the decision tree as \"mkt_tree.dot\"\n",
        "export_graphviz( \n",
        "        tree_clf, #Tree object\n",
        "        out_file=os.path.join(IMAGES_PATH, \"mkt_tree.dot\"),\n",
        "        feature_names=np.asarray(COL_LIST[0:4]), #Use constant COL_LIST to name features\n",
        "        class_names=np.asarray(['Basic','Graduation','Masters','PhD']), #Class of target (y)\n",
        "        rounded=True,\n",
        "        filled=True\n",
        "    )\n",
        "\n",
        "Source.from_file(os.path.join(IMAGES_PATH, \"mkt_tree.dot\"))  #Display tree"
      ],
      "execution_count": null,
      "outputs": [
        {
          "output_type": "execute_result",
          "data": {
            "text/plain": [
              "<graphviz.files.Source at 0x7f628e4a95d0>"
            ],
            "image/svg+xml": "<?xml version=\"1.0\" encoding=\"UTF-8\" standalone=\"no\"?>\n<!DOCTYPE svg PUBLIC \"-//W3C//DTD SVG 1.1//EN\"\n \"http://www.w3.org/Graphics/SVG/1.1/DTD/svg11.dtd\">\n<!-- Generated by graphviz version 2.40.1 (20161225.0304)\n -->\n<!-- Title: Tree Pages: 1 -->\n<svg width=\"1063pt\" height=\"552pt\"\n viewBox=\"0.00 0.00 1062.50 552.00\" xmlns=\"http://www.w3.org/2000/svg\" xmlns:xlink=\"http://www.w3.org/1999/xlink\">\n<g id=\"graph0\" class=\"graph\" transform=\"scale(1 1) rotate(0) translate(4 548)\">\n<title>Tree</title>\n<polygon fill=\"#ffffff\" stroke=\"transparent\" points=\"-4,4 -4,-548 1058.5,-548 1058.5,4 -4,4\"/>\n<!-- 0 -->\n<g id=\"node1\" class=\"node\">\n<title>0</title>\n<path fill=\"#a4f29d\" stroke=\"#000000\" d=\"M485,-544C485,-544 354,-544 354,-544 348,-544 342,-538 342,-532 342,-532 342,-473 342,-473 342,-467 348,-461 354,-461 354,-461 485,-461 485,-461 491,-461 497,-467 497,-473 497,-473 497,-532 497,-532 497,-538 491,-544 485,-544\"/>\n<text text-anchor=\"middle\" x=\"419.5\" y=\"-528.8\" font-family=\"Helvetica,sans-Serif\" font-size=\"14.00\" fill=\"#000000\">MntWines &lt;= 2.5</text>\n<text text-anchor=\"middle\" x=\"419.5\" y=\"-513.8\" font-family=\"Helvetica,sans-Serif\" font-size=\"14.00\" fill=\"#000000\">gini = 0.582</text>\n<text text-anchor=\"middle\" x=\"419.5\" y=\"-498.8\" font-family=\"Helvetica,sans-Serif\" font-size=\"14.00\" fill=\"#000000\">samples = 100</text>\n<text text-anchor=\"middle\" x=\"419.5\" y=\"-483.8\" font-family=\"Helvetica,sans-Serif\" font-size=\"14.00\" fill=\"#000000\">value = [4, 59, 18, 19]</text>\n<text text-anchor=\"middle\" x=\"419.5\" y=\"-468.8\" font-family=\"Helvetica,sans-Serif\" font-size=\"14.00\" fill=\"#000000\">class = Graduation</text>\n</g>\n<!-- 1 -->\n<g id=\"node2\" class=\"node\">\n<title>1</title>\n<path fill=\"#fbeade\" stroke=\"#000000\" d=\"M387,-425C387,-425 280,-425 280,-425 274,-425 268,-419 268,-413 268,-413 268,-354 268,-354 268,-348 274,-342 280,-342 280,-342 387,-342 387,-342 393,-342 399,-348 399,-354 399,-354 399,-413 399,-413 399,-419 393,-425 387,-425\"/>\n<text text-anchor=\"middle\" x=\"333.5\" y=\"-409.8\" font-family=\"Helvetica,sans-Serif\" font-size=\"14.00\" fill=\"#000000\">MntWines &lt;= 0.5</text>\n<text text-anchor=\"middle\" x=\"333.5\" y=\"-394.8\" font-family=\"Helvetica,sans-Serif\" font-size=\"14.00\" fill=\"#000000\">gini = 0.642</text>\n<text text-anchor=\"middle\" x=\"333.5\" y=\"-379.8\" font-family=\"Helvetica,sans-Serif\" font-size=\"14.00\" fill=\"#000000\">samples = 9</text>\n<text text-anchor=\"middle\" x=\"333.5\" y=\"-364.8\" font-family=\"Helvetica,sans-Serif\" font-size=\"14.00\" fill=\"#000000\">value = [4, 3, 2, 0]</text>\n<text text-anchor=\"middle\" x=\"333.5\" y=\"-349.8\" font-family=\"Helvetica,sans-Serif\" font-size=\"14.00\" fill=\"#000000\">class = Basic</text>\n</g>\n<!-- 0&#45;&gt;1 -->\n<g id=\"edge1\" class=\"edge\">\n<title>0&#45;&gt;1</title>\n<path fill=\"none\" stroke=\"#000000\" d=\"M389.4214,-460.8796C383.0428,-452.0534 376.246,-442.6485 369.6681,-433.5466\"/>\n<polygon fill=\"#000000\" stroke=\"#000000\" points=\"372.4012,-431.353 363.707,-425.2981 366.7277,-435.4532 372.4012,-431.353\"/>\n<text text-anchor=\"middle\" x=\"359.7338\" y=\"-446.2803\" font-family=\"Helvetica,sans-Serif\" font-size=\"14.00\" fill=\"#000000\">True</text>\n</g>\n<!-- 8 -->\n<g id=\"node9\" class=\"node\">\n<title>8</title>\n<path fill=\"#a0f299\" stroke=\"#000000\" d=\"M643,-425C643,-425 512,-425 512,-425 506,-425 500,-419 500,-413 500,-413 500,-354 500,-354 500,-348 506,-342 512,-342 512,-342 643,-342 643,-342 649,-342 655,-348 655,-354 655,-354 655,-413 655,-413 655,-419 649,-425 643,-425\"/>\n<text text-anchor=\"middle\" x=\"577.5\" y=\"-409.8\" font-family=\"Helvetica,sans-Serif\" font-size=\"14.00\" fill=\"#000000\">Income &lt;= 77259.0</text>\n<text text-anchor=\"middle\" x=\"577.5\" y=\"-394.8\" font-family=\"Helvetica,sans-Serif\" font-size=\"14.00\" fill=\"#000000\">gini = 0.547</text>\n<text text-anchor=\"middle\" x=\"577.5\" y=\"-379.8\" font-family=\"Helvetica,sans-Serif\" font-size=\"14.00\" fill=\"#000000\">samples = 91</text>\n<text text-anchor=\"middle\" x=\"577.5\" y=\"-364.8\" font-family=\"Helvetica,sans-Serif\" font-size=\"14.00\" fill=\"#000000\">value = [0, 56, 16, 19]</text>\n<text text-anchor=\"middle\" x=\"577.5\" y=\"-349.8\" font-family=\"Helvetica,sans-Serif\" font-size=\"14.00\" fill=\"#000000\">class = Graduation</text>\n</g>\n<!-- 0&#45;&gt;8 -->\n<g id=\"edge8\" class=\"edge\">\n<title>0&#45;&gt;8</title>\n<path fill=\"none\" stroke=\"#000000\" d=\"M474.7607,-460.8796C487.5099,-451.2774 501.1683,-440.9903 514.2291,-431.1534\"/>\n<polygon fill=\"#000000\" stroke=\"#000000\" points=\"516.3883,-433.9089 522.2705,-425.0969 512.1769,-428.3174 516.3883,-433.9089\"/>\n<text text-anchor=\"middle\" x=\"518.785\" y=\"-446.1528\" font-family=\"Helvetica,sans-Serif\" font-size=\"14.00\" fill=\"#000000\">False</text>\n</g>\n<!-- 2 -->\n<g id=\"node3\" class=\"node\">\n<title>2</title>\n<path fill=\"#399de5\" stroke=\"#000000\" d=\"M227,-298.5C227,-298.5 120,-298.5 120,-298.5 114,-298.5 108,-292.5 108,-286.5 108,-286.5 108,-242.5 108,-242.5 108,-236.5 114,-230.5 120,-230.5 120,-230.5 227,-230.5 227,-230.5 233,-230.5 239,-236.5 239,-242.5 239,-242.5 239,-286.5 239,-286.5 239,-292.5 233,-298.5 227,-298.5\"/>\n<text text-anchor=\"middle\" x=\"173.5\" y=\"-283.3\" font-family=\"Helvetica,sans-Serif\" font-size=\"14.00\" fill=\"#000000\">gini = 0.0</text>\n<text text-anchor=\"middle\" x=\"173.5\" y=\"-268.3\" font-family=\"Helvetica,sans-Serif\" font-size=\"14.00\" fill=\"#000000\">samples = 2</text>\n<text text-anchor=\"middle\" x=\"173.5\" y=\"-253.3\" font-family=\"Helvetica,sans-Serif\" font-size=\"14.00\" fill=\"#000000\">value = [0, 0, 2, 0]</text>\n<text text-anchor=\"middle\" x=\"173.5\" y=\"-238.3\" font-family=\"Helvetica,sans-Serif\" font-size=\"14.00\" fill=\"#000000\">class = Masters</text>\n</g>\n<!-- 1&#45;&gt;2 -->\n<g id=\"edge2\" class=\"edge\">\n<title>1&#45;&gt;2</title>\n<path fill=\"none\" stroke=\"#000000\" d=\"M277.5398,-341.8796C261.3478,-329.8368 243.7073,-316.7167 227.6292,-304.7586\"/>\n<polygon fill=\"#000000\" stroke=\"#000000\" points=\"229.4925,-301.7825 219.3797,-298.623 225.315,-307.3993 229.4925,-301.7825\"/>\n</g>\n<!-- 3 -->\n<g id=\"node4\" class=\"node\">\n<title>3</title>\n<path fill=\"#f8e0ce\" stroke=\"#000000\" d=\"M397.5,-306C397.5,-306 269.5,-306 269.5,-306 263.5,-306 257.5,-300 257.5,-294 257.5,-294 257.5,-235 257.5,-235 257.5,-229 263.5,-223 269.5,-223 269.5,-223 397.5,-223 397.5,-223 403.5,-223 409.5,-229 409.5,-235 409.5,-235 409.5,-294 409.5,-294 409.5,-300 403.5,-306 397.5,-306\"/>\n<text text-anchor=\"middle\" x=\"333.5\" y=\"-290.8\" font-family=\"Helvetica,sans-Serif\" font-size=\"14.00\" fill=\"#000000\">Year_Birth &lt;= 1977.5</text>\n<text text-anchor=\"middle\" x=\"333.5\" y=\"-275.8\" font-family=\"Helvetica,sans-Serif\" font-size=\"14.00\" fill=\"#000000\">gini = 0.49</text>\n<text text-anchor=\"middle\" x=\"333.5\" y=\"-260.8\" font-family=\"Helvetica,sans-Serif\" font-size=\"14.00\" fill=\"#000000\">samples = 7</text>\n<text text-anchor=\"middle\" x=\"333.5\" y=\"-245.8\" font-family=\"Helvetica,sans-Serif\" font-size=\"14.00\" fill=\"#000000\">value = [4, 3, 0, 0]</text>\n<text text-anchor=\"middle\" x=\"333.5\" y=\"-230.8\" font-family=\"Helvetica,sans-Serif\" font-size=\"14.00\" fill=\"#000000\">class = Basic</text>\n</g>\n<!-- 1&#45;&gt;3 -->\n<g id=\"edge3\" class=\"edge\">\n<title>1&#45;&gt;3</title>\n<path fill=\"none\" stroke=\"#000000\" d=\"M333.5,-341.8796C333.5,-333.6838 333.5,-324.9891 333.5,-316.5013\"/>\n<polygon fill=\"#000000\" stroke=\"#000000\" points=\"337.0001,-316.298 333.5,-306.2981 330.0001,-316.2981 337.0001,-316.298\"/>\n</g>\n<!-- 4 -->\n<g id=\"node5\" class=\"node\">\n<title>4</title>\n<path fill=\"#84ee7b\" stroke=\"#000000\" d=\"M237.5,-187C237.5,-187 123.5,-187 123.5,-187 117.5,-187 111.5,-181 111.5,-175 111.5,-175 111.5,-116 111.5,-116 111.5,-110 117.5,-104 123.5,-104 123.5,-104 237.5,-104 237.5,-104 243.5,-104 249.5,-110 249.5,-116 249.5,-116 249.5,-175 249.5,-175 249.5,-181 243.5,-187 237.5,-187\"/>\n<text text-anchor=\"middle\" x=\"180.5\" y=\"-171.8\" font-family=\"Helvetica,sans-Serif\" font-size=\"14.00\" fill=\"#000000\">Kidhome &lt;= 0.5</text>\n<text text-anchor=\"middle\" x=\"180.5\" y=\"-156.8\" font-family=\"Helvetica,sans-Serif\" font-size=\"14.00\" fill=\"#000000\">gini = 0.375</text>\n<text text-anchor=\"middle\" x=\"180.5\" y=\"-141.8\" font-family=\"Helvetica,sans-Serif\" font-size=\"14.00\" fill=\"#000000\">samples = 4</text>\n<text text-anchor=\"middle\" x=\"180.5\" y=\"-126.8\" font-family=\"Helvetica,sans-Serif\" font-size=\"14.00\" fill=\"#000000\">value = [1, 3, 0, 0]</text>\n<text text-anchor=\"middle\" x=\"180.5\" y=\"-111.8\" font-family=\"Helvetica,sans-Serif\" font-size=\"14.00\" fill=\"#000000\">class = Graduation</text>\n</g>\n<!-- 3&#45;&gt;4 -->\n<g id=\"edge4\" class=\"edge\">\n<title>3&#45;&gt;4</title>\n<path fill=\"none\" stroke=\"#000000\" d=\"M279.988,-222.8796C267.7588,-213.368 254.6656,-203.1843 242.1268,-193.432\"/>\n<polygon fill=\"#000000\" stroke=\"#000000\" points=\"244.0241,-190.4736 233.9818,-187.0969 239.7265,-195.9991 244.0241,-190.4736\"/>\n</g>\n<!-- 7 -->\n<g id=\"node8\" class=\"node\">\n<title>7</title>\n<path fill=\"#e58139\" stroke=\"#000000\" d=\"M387,-179.5C387,-179.5 280,-179.5 280,-179.5 274,-179.5 268,-173.5 268,-167.5 268,-167.5 268,-123.5 268,-123.5 268,-117.5 274,-111.5 280,-111.5 280,-111.5 387,-111.5 387,-111.5 393,-111.5 399,-117.5 399,-123.5 399,-123.5 399,-167.5 399,-167.5 399,-173.5 393,-179.5 387,-179.5\"/>\n<text text-anchor=\"middle\" x=\"333.5\" y=\"-164.3\" font-family=\"Helvetica,sans-Serif\" font-size=\"14.00\" fill=\"#000000\">gini = 0.0</text>\n<text text-anchor=\"middle\" x=\"333.5\" y=\"-149.3\" font-family=\"Helvetica,sans-Serif\" font-size=\"14.00\" fill=\"#000000\">samples = 3</text>\n<text text-anchor=\"middle\" x=\"333.5\" y=\"-134.3\" font-family=\"Helvetica,sans-Serif\" font-size=\"14.00\" fill=\"#000000\">value = [3, 0, 0, 0]</text>\n<text text-anchor=\"middle\" x=\"333.5\" y=\"-119.3\" font-family=\"Helvetica,sans-Serif\" font-size=\"14.00\" fill=\"#000000\">class = Basic</text>\n</g>\n<!-- 3&#45;&gt;7 -->\n<g id=\"edge7\" class=\"edge\">\n<title>3&#45;&gt;7</title>\n<path fill=\"none\" stroke=\"#000000\" d=\"M333.5,-222.8796C333.5,-212.2134 333.5,-200.7021 333.5,-189.9015\"/>\n<polygon fill=\"#000000\" stroke=\"#000000\" points=\"337.0001,-189.8149 333.5,-179.8149 330.0001,-189.815 337.0001,-189.8149\"/>\n</g>\n<!-- 5 -->\n<g id=\"node6\" class=\"node\">\n<title>5</title>\n<path fill=\"#ffffff\" stroke=\"#000000\" d=\"M119,-68C119,-68 12,-68 12,-68 6,-68 0,-62 0,-56 0,-56 0,-12 0,-12 0,-6 6,0 12,0 12,0 119,0 119,0 125,0 131,-6 131,-12 131,-12 131,-56 131,-56 131,-62 125,-68 119,-68\"/>\n<text text-anchor=\"middle\" x=\"65.5\" y=\"-52.8\" font-family=\"Helvetica,sans-Serif\" font-size=\"14.00\" fill=\"#000000\">gini = 0.5</text>\n<text text-anchor=\"middle\" x=\"65.5\" y=\"-37.8\" font-family=\"Helvetica,sans-Serif\" font-size=\"14.00\" fill=\"#000000\">samples = 2</text>\n<text text-anchor=\"middle\" x=\"65.5\" y=\"-22.8\" font-family=\"Helvetica,sans-Serif\" font-size=\"14.00\" fill=\"#000000\">value = [1, 1, 0, 0]</text>\n<text text-anchor=\"middle\" x=\"65.5\" y=\"-7.8\" font-family=\"Helvetica,sans-Serif\" font-size=\"14.00\" fill=\"#000000\">class = Basic</text>\n</g>\n<!-- 4&#45;&gt;5 -->\n<g id=\"edge5\" class=\"edge\">\n<title>4&#45;&gt;5</title>\n<path fill=\"none\" stroke=\"#000000\" d=\"M137.6782,-103.9815C128.0095,-94.607 117.7473,-84.6572 108.0882,-75.2921\"/>\n<polygon fill=\"#000000\" stroke=\"#000000\" points=\"110.4551,-72.7118 100.8392,-68.2637 105.5824,-77.7375 110.4551,-72.7118\"/>\n</g>\n<!-- 6 -->\n<g id=\"node7\" class=\"node\">\n<title>6</title>\n<path fill=\"#47e539\" stroke=\"#000000\" d=\"M275.5,-68C275.5,-68 161.5,-68 161.5,-68 155.5,-68 149.5,-62 149.5,-56 149.5,-56 149.5,-12 149.5,-12 149.5,-6 155.5,0 161.5,0 161.5,0 275.5,0 275.5,0 281.5,0 287.5,-6 287.5,-12 287.5,-12 287.5,-56 287.5,-56 287.5,-62 281.5,-68 275.5,-68\"/>\n<text text-anchor=\"middle\" x=\"218.5\" y=\"-52.8\" font-family=\"Helvetica,sans-Serif\" font-size=\"14.00\" fill=\"#000000\">gini = 0.0</text>\n<text text-anchor=\"middle\" x=\"218.5\" y=\"-37.8\" font-family=\"Helvetica,sans-Serif\" font-size=\"14.00\" fill=\"#000000\">samples = 2</text>\n<text text-anchor=\"middle\" x=\"218.5\" y=\"-22.8\" font-family=\"Helvetica,sans-Serif\" font-size=\"14.00\" fill=\"#000000\">value = [0, 2, 0, 0]</text>\n<text text-anchor=\"middle\" x=\"218.5\" y=\"-7.8\" font-family=\"Helvetica,sans-Serif\" font-size=\"14.00\" fill=\"#000000\">class = Graduation</text>\n</g>\n<!-- 4&#45;&gt;6 -->\n<g id=\"edge6\" class=\"edge\">\n<title>4&#45;&gt;6</title>\n<path fill=\"none\" stroke=\"#000000\" d=\"M194.6498,-103.9815C197.5628,-95.4342 200.6388,-86.4086 203.5781,-77.7839\"/>\n<polygon fill=\"#000000\" stroke=\"#000000\" points=\"206.9096,-78.8582 206.8227,-68.2637 200.2839,-76.6 206.9096,-78.8582\"/>\n</g>\n<!-- 9 -->\n<g id=\"node10\" class=\"node\">\n<title>9</title>\n<path fill=\"#92f089\" stroke=\"#000000\" d=\"M643,-306C643,-306 512,-306 512,-306 506,-306 500,-300 500,-294 500,-294 500,-235 500,-235 500,-229 506,-223 512,-223 512,-223 643,-223 643,-223 649,-223 655,-229 655,-235 655,-235 655,-294 655,-294 655,-300 649,-306 643,-306\"/>\n<text text-anchor=\"middle\" x=\"577.5\" y=\"-290.8\" font-family=\"Helvetica,sans-Serif\" font-size=\"14.00\" fill=\"#000000\">Income &lt;= 71133.0</text>\n<text text-anchor=\"middle\" x=\"577.5\" y=\"-275.8\" font-family=\"Helvetica,sans-Serif\" font-size=\"14.00\" fill=\"#000000\">gini = 0.5</text>\n<text text-anchor=\"middle\" x=\"577.5\" y=\"-260.8\" font-family=\"Helvetica,sans-Serif\" font-size=\"14.00\" fill=\"#000000\">samples = 78</text>\n<text text-anchor=\"middle\" x=\"577.5\" y=\"-245.8\" font-family=\"Helvetica,sans-Serif\" font-size=\"14.00\" fill=\"#000000\">value = [0, 52, 12, 14]</text>\n<text text-anchor=\"middle\" x=\"577.5\" y=\"-230.8\" font-family=\"Helvetica,sans-Serif\" font-size=\"14.00\" fill=\"#000000\">class = Graduation</text>\n</g>\n<!-- 8&#45;&gt;9 -->\n<g id=\"edge9\" class=\"edge\">\n<title>8&#45;&gt;9</title>\n<path fill=\"none\" stroke=\"#000000\" d=\"M577.5,-341.8796C577.5,-333.6838 577.5,-324.9891 577.5,-316.5013\"/>\n<polygon fill=\"#000000\" stroke=\"#000000\" points=\"581.0001,-316.298 577.5,-306.2981 574.0001,-316.2981 581.0001,-316.298\"/>\n</g>\n<!-- 14 -->\n<g id=\"node15\" class=\"node\">\n<title>14</title>\n<path fill=\"#fbe9fc\" stroke=\"#000000\" d=\"M886.5,-306C886.5,-306 758.5,-306 758.5,-306 752.5,-306 746.5,-300 746.5,-294 746.5,-294 746.5,-235 746.5,-235 746.5,-229 752.5,-223 758.5,-223 758.5,-223 886.5,-223 886.5,-223 892.5,-223 898.5,-229 898.5,-235 898.5,-235 898.5,-294 898.5,-294 898.5,-300 892.5,-306 886.5,-306\"/>\n<text text-anchor=\"middle\" x=\"822.5\" y=\"-290.8\" font-family=\"Helvetica,sans-Serif\" font-size=\"14.00\" fill=\"#000000\">Year_Birth &lt;= 1982.5</text>\n<text text-anchor=\"middle\" x=\"822.5\" y=\"-275.8\" font-family=\"Helvetica,sans-Serif\" font-size=\"14.00\" fill=\"#000000\">gini = 0.663</text>\n<text text-anchor=\"middle\" x=\"822.5\" y=\"-260.8\" font-family=\"Helvetica,sans-Serif\" font-size=\"14.00\" fill=\"#000000\">samples = 13</text>\n<text text-anchor=\"middle\" x=\"822.5\" y=\"-245.8\" font-family=\"Helvetica,sans-Serif\" font-size=\"14.00\" fill=\"#000000\">value = [0, 4, 4, 5]</text>\n<text text-anchor=\"middle\" x=\"822.5\" y=\"-230.8\" font-family=\"Helvetica,sans-Serif\" font-size=\"14.00\" fill=\"#000000\">class = PhD</text>\n</g>\n<!-- 8&#45;&gt;14 -->\n<g id=\"edge14\" class=\"edge\">\n<title>8&#45;&gt;14</title>\n<path fill=\"none\" stroke=\"#000000\" d=\"M655.0195,-345.8477C681.1037,-333.1782 710.3475,-318.9741 737.0098,-306.0238\"/>\n<polygon fill=\"#000000\" stroke=\"#000000\" points=\"738.8576,-309.0174 746.3235,-301.5 735.7992,-302.7208 738.8576,-309.0174\"/>\n</g>\n<!-- 10 -->\n<g id=\"node11\" class=\"node\">\n<title>10</title>\n<path fill=\"#99f192\" stroke=\"#000000\" d=\"M560,-187C560,-187 429,-187 429,-187 423,-187 417,-181 417,-175 417,-175 417,-116 417,-116 417,-110 423,-104 429,-104 429,-104 560,-104 560,-104 566,-104 572,-110 572,-116 572,-116 572,-175 572,-175 572,-181 566,-187 560,-187\"/>\n<text text-anchor=\"middle\" x=\"494.5\" y=\"-171.8\" font-family=\"Helvetica,sans-Serif\" font-size=\"14.00\" fill=\"#000000\">Income &lt;= 66836.0</text>\n<text text-anchor=\"middle\" x=\"494.5\" y=\"-156.8\" font-family=\"Helvetica,sans-Serif\" font-size=\"14.00\" fill=\"#000000\">gini = 0.526</text>\n<text text-anchor=\"middle\" x=\"494.5\" y=\"-141.8\" font-family=\"Helvetica,sans-Serif\" font-size=\"14.00\" fill=\"#000000\">samples = 72</text>\n<text text-anchor=\"middle\" x=\"494.5\" y=\"-126.8\" font-family=\"Helvetica,sans-Serif\" font-size=\"14.00\" fill=\"#000000\">value = [0, 46, 12, 14]</text>\n<text text-anchor=\"middle\" x=\"494.5\" y=\"-111.8\" font-family=\"Helvetica,sans-Serif\" font-size=\"14.00\" fill=\"#000000\">class = Graduation</text>\n</g>\n<!-- 9&#45;&gt;10 -->\n<g id=\"edge10\" class=\"edge\">\n<title>9&#45;&gt;10</title>\n<path fill=\"none\" stroke=\"#000000\" d=\"M548.4706,-222.8796C542.3145,-214.0534 535.7549,-204.6485 529.4064,-195.5466\"/>\n<polygon fill=\"#000000\" stroke=\"#000000\" points=\"532.2448,-193.4978 523.6533,-187.2981 526.5033,-197.5024 532.2448,-193.4978\"/>\n</g>\n<!-- 13 -->\n<g id=\"node14\" class=\"node\">\n<title>13</title>\n<path fill=\"#47e539\" stroke=\"#000000\" d=\"M716.5,-179.5C716.5,-179.5 602.5,-179.5 602.5,-179.5 596.5,-179.5 590.5,-173.5 590.5,-167.5 590.5,-167.5 590.5,-123.5 590.5,-123.5 590.5,-117.5 596.5,-111.5 602.5,-111.5 602.5,-111.5 716.5,-111.5 716.5,-111.5 722.5,-111.5 728.5,-117.5 728.5,-123.5 728.5,-123.5 728.5,-167.5 728.5,-167.5 728.5,-173.5 722.5,-179.5 716.5,-179.5\"/>\n<text text-anchor=\"middle\" x=\"659.5\" y=\"-164.3\" font-family=\"Helvetica,sans-Serif\" font-size=\"14.00\" fill=\"#000000\">gini = 0.0</text>\n<text text-anchor=\"middle\" x=\"659.5\" y=\"-149.3\" font-family=\"Helvetica,sans-Serif\" font-size=\"14.00\" fill=\"#000000\">samples = 6</text>\n<text text-anchor=\"middle\" x=\"659.5\" y=\"-134.3\" font-family=\"Helvetica,sans-Serif\" font-size=\"14.00\" fill=\"#000000\">value = [0, 6, 0, 0]</text>\n<text text-anchor=\"middle\" x=\"659.5\" y=\"-119.3\" font-family=\"Helvetica,sans-Serif\" font-size=\"14.00\" fill=\"#000000\">class = Graduation</text>\n</g>\n<!-- 9&#45;&gt;13 -->\n<g id=\"edge13\" class=\"edge\">\n<title>9&#45;&gt;13</title>\n<path fill=\"none\" stroke=\"#000000\" d=\"M606.1796,-222.8796C613.9083,-211.6636 622.2809,-199.5131 630.0508,-188.2372\"/>\n<polygon fill=\"#000000\" stroke=\"#000000\" points=\"633.0623,-190.0353 635.8544,-179.8149 627.2982,-186.0634 633.0623,-190.0353\"/>\n</g>\n<!-- 11 -->\n<g id=\"node12\" class=\"node\">\n<title>11</title>\n<path fill=\"#93f08b\" stroke=\"#000000\" d=\"M523,-68C523,-68 392,-68 392,-68 386,-68 380,-62 380,-56 380,-56 380,-12 380,-12 380,-6 386,0 392,0 392,0 523,0 523,0 529,0 535,-6 535,-12 535,-12 535,-56 535,-56 535,-62 529,-68 523,-68\"/>\n<text text-anchor=\"middle\" x=\"457.5\" y=\"-52.8\" font-family=\"Helvetica,sans-Serif\" font-size=\"14.00\" fill=\"#000000\">gini = 0.505</text>\n<text text-anchor=\"middle\" x=\"457.5\" y=\"-37.8\" font-family=\"Helvetica,sans-Serif\" font-size=\"14.00\" fill=\"#000000\">samples = 65</text>\n<text text-anchor=\"middle\" x=\"457.5\" y=\"-22.8\" font-family=\"Helvetica,sans-Serif\" font-size=\"14.00\" fill=\"#000000\">value = [0, 43, 12, 10]</text>\n<text text-anchor=\"middle\" x=\"457.5\" y=\"-7.8\" font-family=\"Helvetica,sans-Serif\" font-size=\"14.00\" fill=\"#000000\">class = Graduation</text>\n</g>\n<!-- 10&#45;&gt;11 -->\n<g id=\"edge11\" class=\"edge\">\n<title>10&#45;&gt;11</title>\n<path fill=\"none\" stroke=\"#000000\" d=\"M480.7226,-103.9815C477.8862,-95.4342 474.8912,-86.4086 472.0292,-77.7839\"/>\n<polygon fill=\"#000000\" stroke=\"#000000\" points=\"475.3415,-76.6524 468.87,-68.2637 468.6977,-78.8571 475.3415,-76.6524\"/>\n</g>\n<!-- 12 -->\n<g id=\"node13\" class=\"node\">\n<title>12</title>\n<path fill=\"#f5cef8\" stroke=\"#000000\" d=\"M672,-68C672,-68 565,-68 565,-68 559,-68 553,-62 553,-56 553,-56 553,-12 553,-12 553,-6 559,0 565,0 565,0 672,0 672,0 678,0 684,-6 684,-12 684,-12 684,-56 684,-56 684,-62 678,-68 672,-68\"/>\n<text text-anchor=\"middle\" x=\"618.5\" y=\"-52.8\" font-family=\"Helvetica,sans-Serif\" font-size=\"14.00\" fill=\"#000000\">gini = 0.49</text>\n<text text-anchor=\"middle\" x=\"618.5\" y=\"-37.8\" font-family=\"Helvetica,sans-Serif\" font-size=\"14.00\" fill=\"#000000\">samples = 7</text>\n<text text-anchor=\"middle\" x=\"618.5\" y=\"-22.8\" font-family=\"Helvetica,sans-Serif\" font-size=\"14.00\" fill=\"#000000\">value = [0, 3, 0, 4]</text>\n<text text-anchor=\"middle\" x=\"618.5\" y=\"-7.8\" font-family=\"Helvetica,sans-Serif\" font-size=\"14.00\" fill=\"#000000\">class = PhD</text>\n</g>\n<!-- 10&#45;&gt;12 -->\n<g id=\"edge12\" class=\"edge\">\n<title>10&#45;&gt;12</title>\n<path fill=\"none\" stroke=\"#000000\" d=\"M540.673,-103.9815C551.2007,-94.5151 562.3808,-84.462 572.8849,-75.0168\"/>\n<polygon fill=\"#000000\" stroke=\"#000000\" points=\"575.2994,-77.5526 580.3951,-68.2637 570.6189,-72.3475 575.2994,-77.5526\"/>\n</g>\n<!-- 15 -->\n<g id=\"node16\" class=\"node\">\n<title>15</title>\n<path fill=\"#f7d7fa\" stroke=\"#000000\" d=\"M886.5,-187C886.5,-187 758.5,-187 758.5,-187 752.5,-187 746.5,-181 746.5,-175 746.5,-175 746.5,-116 746.5,-116 746.5,-110 752.5,-104 758.5,-104 758.5,-104 886.5,-104 886.5,-104 892.5,-104 898.5,-110 898.5,-116 898.5,-116 898.5,-175 898.5,-175 898.5,-181 892.5,-187 886.5,-187\"/>\n<text text-anchor=\"middle\" x=\"822.5\" y=\"-171.8\" font-family=\"Helvetica,sans-Serif\" font-size=\"14.00\" fill=\"#000000\">Year_Birth &lt;= 1954.5</text>\n<text text-anchor=\"middle\" x=\"822.5\" y=\"-156.8\" font-family=\"Helvetica,sans-Serif\" font-size=\"14.00\" fill=\"#000000\">gini = 0.494</text>\n<text text-anchor=\"middle\" x=\"822.5\" y=\"-141.8\" font-family=\"Helvetica,sans-Serif\" font-size=\"14.00\" fill=\"#000000\">samples = 9</text>\n<text text-anchor=\"middle\" x=\"822.5\" y=\"-126.8\" font-family=\"Helvetica,sans-Serif\" font-size=\"14.00\" fill=\"#000000\">value = [0, 0, 4, 5]</text>\n<text text-anchor=\"middle\" x=\"822.5\" y=\"-111.8\" font-family=\"Helvetica,sans-Serif\" font-size=\"14.00\" fill=\"#000000\">class = PhD</text>\n</g>\n<!-- 14&#45;&gt;15 -->\n<g id=\"edge15\" class=\"edge\">\n<title>14&#45;&gt;15</title>\n<path fill=\"none\" stroke=\"#000000\" d=\"M822.5,-222.8796C822.5,-214.6838 822.5,-205.9891 822.5,-197.5013\"/>\n<polygon fill=\"#000000\" stroke=\"#000000\" points=\"826.0001,-197.298 822.5,-187.2981 819.0001,-197.2981 826.0001,-197.298\"/>\n</g>\n<!-- 18 -->\n<g id=\"node19\" class=\"node\">\n<title>18</title>\n<path fill=\"#47e539\" stroke=\"#000000\" d=\"M1042.5,-179.5C1042.5,-179.5 928.5,-179.5 928.5,-179.5 922.5,-179.5 916.5,-173.5 916.5,-167.5 916.5,-167.5 916.5,-123.5 916.5,-123.5 916.5,-117.5 922.5,-111.5 928.5,-111.5 928.5,-111.5 1042.5,-111.5 1042.5,-111.5 1048.5,-111.5 1054.5,-117.5 1054.5,-123.5 1054.5,-123.5 1054.5,-167.5 1054.5,-167.5 1054.5,-173.5 1048.5,-179.5 1042.5,-179.5\"/>\n<text text-anchor=\"middle\" x=\"985.5\" y=\"-164.3\" font-family=\"Helvetica,sans-Serif\" font-size=\"14.00\" fill=\"#000000\">gini = 0.0</text>\n<text text-anchor=\"middle\" x=\"985.5\" y=\"-149.3\" font-family=\"Helvetica,sans-Serif\" font-size=\"14.00\" fill=\"#000000\">samples = 4</text>\n<text text-anchor=\"middle\" x=\"985.5\" y=\"-134.3\" font-family=\"Helvetica,sans-Serif\" font-size=\"14.00\" fill=\"#000000\">value = [0, 4, 0, 0]</text>\n<text text-anchor=\"middle\" x=\"985.5\" y=\"-119.3\" font-family=\"Helvetica,sans-Serif\" font-size=\"14.00\" fill=\"#000000\">class = Graduation</text>\n</g>\n<!-- 14&#45;&gt;18 -->\n<g id=\"edge18\" class=\"edge\">\n<title>14&#45;&gt;18</title>\n<path fill=\"none\" stroke=\"#000000\" d=\"M879.5095,-222.8796C896.0051,-210.8368 913.9763,-197.7167 930.3559,-185.7586\"/>\n<polygon fill=\"#000000\" stroke=\"#000000\" points=\"932.7472,-188.3463 938.76,-179.623 928.6196,-182.6927 932.7472,-188.3463\"/>\n</g>\n<!-- 16 -->\n<g id=\"node17\" class=\"node\">\n<title>16</title>\n<path fill=\"#7bbeee\" stroke=\"#000000\" d=\"M830,-68C830,-68 723,-68 723,-68 717,-68 711,-62 711,-56 711,-56 711,-12 711,-12 711,-6 717,0 723,0 723,0 830,0 830,0 836,0 842,-6 842,-12 842,-12 842,-56 842,-56 842,-62 836,-68 830,-68\"/>\n<text text-anchor=\"middle\" x=\"776.5\" y=\"-52.8\" font-family=\"Helvetica,sans-Serif\" font-size=\"14.00\" fill=\"#000000\">gini = 0.375</text>\n<text text-anchor=\"middle\" x=\"776.5\" y=\"-37.8\" font-family=\"Helvetica,sans-Serif\" font-size=\"14.00\" fill=\"#000000\">samples = 4</text>\n<text text-anchor=\"middle\" x=\"776.5\" y=\"-22.8\" font-family=\"Helvetica,sans-Serif\" font-size=\"14.00\" fill=\"#000000\">value = [0, 0, 3, 1]</text>\n<text text-anchor=\"middle\" x=\"776.5\" y=\"-7.8\" font-family=\"Helvetica,sans-Serif\" font-size=\"14.00\" fill=\"#000000\">class = Masters</text>\n</g>\n<!-- 15&#45;&gt;16 -->\n<g id=\"edge16\" class=\"edge\">\n<title>15&#45;&gt;16</title>\n<path fill=\"none\" stroke=\"#000000\" d=\"M805.3713,-103.9815C801.845,-95.4342 798.1215,-86.4086 794.5633,-77.7839\"/>\n<polygon fill=\"#000000\" stroke=\"#000000\" points=\"797.685,-76.1731 790.6357,-68.2637 791.214,-78.8427 797.685,-76.1731\"/>\n</g>\n<!-- 17 -->\n<g id=\"node18\" class=\"node\">\n<title>17</title>\n<path fill=\"#e16aec\" stroke=\"#000000\" d=\"M979,-68C979,-68 872,-68 872,-68 866,-68 860,-62 860,-56 860,-56 860,-12 860,-12 860,-6 866,0 872,0 872,0 979,0 979,0 985,0 991,-6 991,-12 991,-12 991,-56 991,-56 991,-62 985,-68 979,-68\"/>\n<text text-anchor=\"middle\" x=\"925.5\" y=\"-52.8\" font-family=\"Helvetica,sans-Serif\" font-size=\"14.00\" fill=\"#000000\">gini = 0.32</text>\n<text text-anchor=\"middle\" x=\"925.5\" y=\"-37.8\" font-family=\"Helvetica,sans-Serif\" font-size=\"14.00\" fill=\"#000000\">samples = 5</text>\n<text text-anchor=\"middle\" x=\"925.5\" y=\"-22.8\" font-family=\"Helvetica,sans-Serif\" font-size=\"14.00\" fill=\"#000000\">value = [0, 0, 1, 4]</text>\n<text text-anchor=\"middle\" x=\"925.5\" y=\"-7.8\" font-family=\"Helvetica,sans-Serif\" font-size=\"14.00\" fill=\"#000000\">class = PhD</text>\n</g>\n<!-- 15&#45;&gt;17 -->\n<g id=\"edge17\" class=\"edge\">\n<title>15&#45;&gt;17</title>\n<path fill=\"none\" stroke=\"#000000\" d=\"M860.8534,-103.9815C869.3434,-94.7908 878.3443,-85.0472 886.8463,-75.8436\"/>\n<polygon fill=\"#000000\" stroke=\"#000000\" points=\"889.6337,-77.9842 893.8484,-68.2637 884.4919,-73.2343 889.6337,-77.9842\"/>\n</g>\n</g>\n</svg>\n"
          },
          "metadata": {},
          "execution_count": 40
        }
      ]
    },
    {
      "cell_type": "code",
      "metadata": {
        "colab": {
          "base_uri": "https://localhost:8080/"
        },
        "id": "lSwLDukmeeEd",
        "outputId": "6171e8f2-3594-4d90-8dd8-3888502c15d3"
      },
      "source": [
        "##Predict (Question 3)\n",
        "\n",
        "print(\"======== features = Year_Birth, Income, Kidhome, MntWines ========\") #Print features (X)\n",
        "print(\"======== 0 = Basic, 1 = Graduation, 2 = Master, 3 = PhD ========\") #Print classification labels for target (y)\n",
        "\n",
        "input1=[[1943, 98000, 0, 1150]] #input 1 -- Year_Birth= 1943, Income=98000, Kidhome=0, MntWines=900\n",
        "print(input1,tree_clf.predict(input1)) #Output for input 1\n",
        "\n",
        "input2=[[1988, 17000, 3, 2]] #input 2 -- Year_Birth= 1988, Income=17000, Kidhome=3, MntWines=2\n",
        "print(input2,tree_clf.predict(input2)) #Output for input 2\n",
        "\n",
        "input3=[[1977, 88000, 1, 550]] #input 3 -- Year_Birth= 1977, Income=88000, Kidhome=1, MntWines=550\n",
        "print(input3,tree_clf.predict(input3)) #Output for input 3"
      ],
      "execution_count": null,
      "outputs": [
        {
          "output_type": "stream",
          "name": "stdout",
          "text": [
            "======== features = Year_Birth, Income, Kidhome, MntWines ========\n",
            "======== 0 = Basic, 1 = Graduation, 2 = Master, 3 = PhD ========\n",
            "[[1943, 98000, 0, 1150]] [2]\n",
            "[[1988, 17000, 3, 2]] [0]\n",
            "[[1977, 88000, 1, 550]] [3]\n"
          ]
        }
      ]
    },
    {
      "cell_type": "code",
      "metadata": {
        "colab": {
          "base_uri": "https://localhost:8080/",
          "height": 864
        },
        "id": "ym4shUIforyU",
        "outputId": "eee9851d-b20b-4974-ce2c-b13f1a10b280"
      },
      "source": [
        "##Data alteration (Question 5)\n",
        "\n",
        "mkt_df2=mkt_df.copy(deep=True) #Create new DataFrame for data alteration work with a deep copy\n",
        "mkt_df2['Income'] = mkt_df2['Income'] -77259 #Reduce all income by 77259\n",
        "mkt_df2['Income'][mkt_df2['Income']<=0] = mkt_df2['MntWines'] #Set all income less than or equal to 0 equal to MntWines\n",
        "#Subtract 77259 from all income and then all income less than or equal to 0 is treated as the amount\n",
        "#an individual spends on wine yearly\n",
        "\n",
        "print(mkt_df2.head()) #Print head of new DataFrame for visualization purposes\n",
        "\n",
        "#Make tree for q5\n",
        "mkt_npa2=mkt_df2.to_numpy() #Change DataFrame to np.array\n",
        "X2 = mkt_npa2[:,0:4] #X features - Year_Birth, Income, Kidhome, and MntWines\n",
        "y2 = mkt_npa2[:,4] #Y target - Education\n",
        "y2 = encoder.fit_transform(y2) #Encode for target variable (Education)\n",
        "\n",
        "\n",
        "#Use Gini measure in constructing decision tree\n",
        "tree_clf2 = DecisionTreeClassifier(max_depth=MAX_DEPTH, random_state=RANDOM_STATE) #Set parameters\n",
        "                                                      #for max_depth and random_state to defined constants\n",
        "                                                      #MAX_DEPTH and RANDOM_STATE\n",
        "#Apply the CART algorithm \n",
        "tree_clf2.fit(X2, y2) #Fit tree\n",
        "\n",
        "#Create the decision tree as \"mkt_tree2.dot\"\n",
        "export_graphviz( \n",
        "        tree_clf2, #Tree object\n",
        "        out_file=os.path.join(IMAGES_PATH, \"mkt_tree2.dot\"),\n",
        "        feature_names=np.asarray(COL_LIST[0:4]), #Use constant COL_LIST to name features\n",
        "        class_names=np.asarray(['Basic','Graduation','Masters','PhD']), #Class of target (y)\n",
        "        rounded=True,\n",
        "        filled=True\n",
        "    )\n",
        "\n",
        "Source.from_file(os.path.join(IMAGES_PATH, \"mkt_tree2.dot\"))  #Display tree"
      ],
      "execution_count": null,
      "outputs": [
        {
          "output_type": "stream",
          "name": "stdout",
          "text": [
            "      Year_Birth  Income  Kidhome  MntWines   Education\n",
            "783         1972     1.0        1         1  Graduation\n",
            "1637        1945   217.0        0       217  Graduation\n",
            "1907        1986    45.0        1        45  Graduation\n",
            "1110        1954   516.0        0       516  Graduation\n",
            "1143        1962    56.0        0        56         PhD\n"
          ]
        },
        {
          "output_type": "execute_result",
          "data": {
            "text/plain": [
              "<graphviz.files.Source at 0x7f628e47a490>"
            ],
            "image/svg+xml": "<?xml version=\"1.0\" encoding=\"UTF-8\" standalone=\"no\"?>\n<!DOCTYPE svg PUBLIC \"-//W3C//DTD SVG 1.1//EN\"\n \"http://www.w3.org/Graphics/SVG/1.1/DTD/svg11.dtd\">\n<!-- Generated by graphviz version 2.40.1 (20161225.0304)\n -->\n<!-- Title: Tree Pages: 1 -->\n<svg width=\"930pt\" height=\"552pt\"\n viewBox=\"0.00 0.00 929.50 552.00\" xmlns=\"http://www.w3.org/2000/svg\" xmlns:xlink=\"http://www.w3.org/1999/xlink\">\n<g id=\"graph0\" class=\"graph\" transform=\"scale(1 1) rotate(0) translate(4 548)\">\n<title>Tree</title>\n<polygon fill=\"#ffffff\" stroke=\"transparent\" points=\"-4,4 -4,-548 925.5,-548 925.5,4 -4,4\"/>\n<!-- 0 -->\n<g id=\"node1\" class=\"node\">\n<title>0</title>\n<path fill=\"#a4f29d\" stroke=\"#000000\" d=\"M515,-544C515,-544 384,-544 384,-544 378,-544 372,-538 372,-532 372,-532 372,-473 372,-473 372,-467 378,-461 384,-461 384,-461 515,-461 515,-461 521,-461 527,-467 527,-473 527,-473 527,-532 527,-532 527,-538 521,-544 515,-544\"/>\n<text text-anchor=\"middle\" x=\"449.5\" y=\"-528.8\" font-family=\"Helvetica,sans-Serif\" font-size=\"14.00\" fill=\"#000000\">Income &lt;= 2.5</text>\n<text text-anchor=\"middle\" x=\"449.5\" y=\"-513.8\" font-family=\"Helvetica,sans-Serif\" font-size=\"14.00\" fill=\"#000000\">gini = 0.582</text>\n<text text-anchor=\"middle\" x=\"449.5\" y=\"-498.8\" font-family=\"Helvetica,sans-Serif\" font-size=\"14.00\" fill=\"#000000\">samples = 100</text>\n<text text-anchor=\"middle\" x=\"449.5\" y=\"-483.8\" font-family=\"Helvetica,sans-Serif\" font-size=\"14.00\" fill=\"#000000\">value = [4, 59, 18, 19]</text>\n<text text-anchor=\"middle\" x=\"449.5\" y=\"-468.8\" font-family=\"Helvetica,sans-Serif\" font-size=\"14.00\" fill=\"#000000\">class = Graduation</text>\n</g>\n<!-- 1 -->\n<g id=\"node2\" class=\"node\">\n<title>1</title>\n<path fill=\"#fbeade\" stroke=\"#000000\" d=\"M417,-425C417,-425 310,-425 310,-425 304,-425 298,-419 298,-413 298,-413 298,-354 298,-354 298,-348 304,-342 310,-342 310,-342 417,-342 417,-342 423,-342 429,-348 429,-354 429,-354 429,-413 429,-413 429,-419 423,-425 417,-425\"/>\n<text text-anchor=\"middle\" x=\"363.5\" y=\"-409.8\" font-family=\"Helvetica,sans-Serif\" font-size=\"14.00\" fill=\"#000000\">MntWines &lt;= 0.5</text>\n<text text-anchor=\"middle\" x=\"363.5\" y=\"-394.8\" font-family=\"Helvetica,sans-Serif\" font-size=\"14.00\" fill=\"#000000\">gini = 0.642</text>\n<text text-anchor=\"middle\" x=\"363.5\" y=\"-379.8\" font-family=\"Helvetica,sans-Serif\" font-size=\"14.00\" fill=\"#000000\">samples = 9</text>\n<text text-anchor=\"middle\" x=\"363.5\" y=\"-364.8\" font-family=\"Helvetica,sans-Serif\" font-size=\"14.00\" fill=\"#000000\">value = [4, 3, 2, 0]</text>\n<text text-anchor=\"middle\" x=\"363.5\" y=\"-349.8\" font-family=\"Helvetica,sans-Serif\" font-size=\"14.00\" fill=\"#000000\">class = Basic</text>\n</g>\n<!-- 0&#45;&gt;1 -->\n<g id=\"edge1\" class=\"edge\">\n<title>0&#45;&gt;1</title>\n<path fill=\"none\" stroke=\"#000000\" d=\"M419.4214,-460.8796C413.0428,-452.0534 406.246,-442.6485 399.6681,-433.5466\"/>\n<polygon fill=\"#000000\" stroke=\"#000000\" points=\"402.4012,-431.353 393.707,-425.2981 396.7277,-435.4532 402.4012,-431.353\"/>\n<text text-anchor=\"middle\" x=\"389.7338\" y=\"-446.2803\" font-family=\"Helvetica,sans-Serif\" font-size=\"14.00\" fill=\"#000000\">True</text>\n</g>\n<!-- 8 -->\n<g id=\"node9\" class=\"node\">\n<title>8</title>\n<path fill=\"#a0f299\" stroke=\"#000000\" d=\"M601,-425C601,-425 470,-425 470,-425 464,-425 458,-419 458,-413 458,-413 458,-354 458,-354 458,-348 464,-342 470,-342 470,-342 601,-342 601,-342 607,-342 613,-348 613,-354 613,-354 613,-413 613,-413 613,-419 607,-425 601,-425\"/>\n<text text-anchor=\"middle\" x=\"535.5\" y=\"-409.8\" font-family=\"Helvetica,sans-Serif\" font-size=\"14.00\" fill=\"#000000\">MntWines &lt;= 1109.0</text>\n<text text-anchor=\"middle\" x=\"535.5\" y=\"-394.8\" font-family=\"Helvetica,sans-Serif\" font-size=\"14.00\" fill=\"#000000\">gini = 0.547</text>\n<text text-anchor=\"middle\" x=\"535.5\" y=\"-379.8\" font-family=\"Helvetica,sans-Serif\" font-size=\"14.00\" fill=\"#000000\">samples = 91</text>\n<text text-anchor=\"middle\" x=\"535.5\" y=\"-364.8\" font-family=\"Helvetica,sans-Serif\" font-size=\"14.00\" fill=\"#000000\">value = [0, 56, 16, 19]</text>\n<text text-anchor=\"middle\" x=\"535.5\" y=\"-349.8\" font-family=\"Helvetica,sans-Serif\" font-size=\"14.00\" fill=\"#000000\">class = Graduation</text>\n</g>\n<!-- 0&#45;&gt;8 -->\n<g id=\"edge8\" class=\"edge\">\n<title>0&#45;&gt;8</title>\n<path fill=\"none\" stroke=\"#000000\" d=\"M479.5786,-460.8796C485.9572,-452.0534 492.754,-442.6485 499.3319,-433.5466\"/>\n<polygon fill=\"#000000\" stroke=\"#000000\" points=\"502.2723,-435.4532 505.293,-425.2981 496.5988,-431.353 502.2723,-435.4532\"/>\n<text text-anchor=\"middle\" x=\"509.2662\" y=\"-446.2803\" font-family=\"Helvetica,sans-Serif\" font-size=\"14.00\" fill=\"#000000\">False</text>\n</g>\n<!-- 2 -->\n<g id=\"node3\" class=\"node\">\n<title>2</title>\n<path fill=\"#399de5\" stroke=\"#000000\" d=\"M257,-298.5C257,-298.5 150,-298.5 150,-298.5 144,-298.5 138,-292.5 138,-286.5 138,-286.5 138,-242.5 138,-242.5 138,-236.5 144,-230.5 150,-230.5 150,-230.5 257,-230.5 257,-230.5 263,-230.5 269,-236.5 269,-242.5 269,-242.5 269,-286.5 269,-286.5 269,-292.5 263,-298.5 257,-298.5\"/>\n<text text-anchor=\"middle\" x=\"203.5\" y=\"-283.3\" font-family=\"Helvetica,sans-Serif\" font-size=\"14.00\" fill=\"#000000\">gini = 0.0</text>\n<text text-anchor=\"middle\" x=\"203.5\" y=\"-268.3\" font-family=\"Helvetica,sans-Serif\" font-size=\"14.00\" fill=\"#000000\">samples = 2</text>\n<text text-anchor=\"middle\" x=\"203.5\" y=\"-253.3\" font-family=\"Helvetica,sans-Serif\" font-size=\"14.00\" fill=\"#000000\">value = [0, 0, 2, 0]</text>\n<text text-anchor=\"middle\" x=\"203.5\" y=\"-238.3\" font-family=\"Helvetica,sans-Serif\" font-size=\"14.00\" fill=\"#000000\">class = Masters</text>\n</g>\n<!-- 1&#45;&gt;2 -->\n<g id=\"edge2\" class=\"edge\">\n<title>1&#45;&gt;2</title>\n<path fill=\"none\" stroke=\"#000000\" d=\"M307.5398,-341.8796C291.3478,-329.8368 273.7073,-316.7167 257.6292,-304.7586\"/>\n<polygon fill=\"#000000\" stroke=\"#000000\" points=\"259.4925,-301.7825 249.3797,-298.623 255.315,-307.3993 259.4925,-301.7825\"/>\n</g>\n<!-- 3 -->\n<g id=\"node4\" class=\"node\">\n<title>3</title>\n<path fill=\"#f8e0ce\" stroke=\"#000000\" d=\"M427.5,-306C427.5,-306 299.5,-306 299.5,-306 293.5,-306 287.5,-300 287.5,-294 287.5,-294 287.5,-235 287.5,-235 287.5,-229 293.5,-223 299.5,-223 299.5,-223 427.5,-223 427.5,-223 433.5,-223 439.5,-229 439.5,-235 439.5,-235 439.5,-294 439.5,-294 439.5,-300 433.5,-306 427.5,-306\"/>\n<text text-anchor=\"middle\" x=\"363.5\" y=\"-290.8\" font-family=\"Helvetica,sans-Serif\" font-size=\"14.00\" fill=\"#000000\">Year_Birth &lt;= 1977.5</text>\n<text text-anchor=\"middle\" x=\"363.5\" y=\"-275.8\" font-family=\"Helvetica,sans-Serif\" font-size=\"14.00\" fill=\"#000000\">gini = 0.49</text>\n<text text-anchor=\"middle\" x=\"363.5\" y=\"-260.8\" font-family=\"Helvetica,sans-Serif\" font-size=\"14.00\" fill=\"#000000\">samples = 7</text>\n<text text-anchor=\"middle\" x=\"363.5\" y=\"-245.8\" font-family=\"Helvetica,sans-Serif\" font-size=\"14.00\" fill=\"#000000\">value = [4, 3, 0, 0]</text>\n<text text-anchor=\"middle\" x=\"363.5\" y=\"-230.8\" font-family=\"Helvetica,sans-Serif\" font-size=\"14.00\" fill=\"#000000\">class = Basic</text>\n</g>\n<!-- 1&#45;&gt;3 -->\n<g id=\"edge3\" class=\"edge\">\n<title>1&#45;&gt;3</title>\n<path fill=\"none\" stroke=\"#000000\" d=\"M363.5,-341.8796C363.5,-333.6838 363.5,-324.9891 363.5,-316.5013\"/>\n<polygon fill=\"#000000\" stroke=\"#000000\" points=\"367.0001,-316.298 363.5,-306.2981 360.0001,-316.2981 367.0001,-316.298\"/>\n</g>\n<!-- 4 -->\n<g id=\"node5\" class=\"node\">\n<title>4</title>\n<path fill=\"#84ee7b\" stroke=\"#000000\" d=\"M270.5,-187C270.5,-187 156.5,-187 156.5,-187 150.5,-187 144.5,-181 144.5,-175 144.5,-175 144.5,-116 144.5,-116 144.5,-110 150.5,-104 156.5,-104 156.5,-104 270.5,-104 270.5,-104 276.5,-104 282.5,-110 282.5,-116 282.5,-116 282.5,-175 282.5,-175 282.5,-181 276.5,-187 270.5,-187\"/>\n<text text-anchor=\"middle\" x=\"213.5\" y=\"-171.8\" font-family=\"Helvetica,sans-Serif\" font-size=\"14.00\" fill=\"#000000\">Kidhome &lt;= 0.5</text>\n<text text-anchor=\"middle\" x=\"213.5\" y=\"-156.8\" font-family=\"Helvetica,sans-Serif\" font-size=\"14.00\" fill=\"#000000\">gini = 0.375</text>\n<text text-anchor=\"middle\" x=\"213.5\" y=\"-141.8\" font-family=\"Helvetica,sans-Serif\" font-size=\"14.00\" fill=\"#000000\">samples = 4</text>\n<text text-anchor=\"middle\" x=\"213.5\" y=\"-126.8\" font-family=\"Helvetica,sans-Serif\" font-size=\"14.00\" fill=\"#000000\">value = [1, 3, 0, 0]</text>\n<text text-anchor=\"middle\" x=\"213.5\" y=\"-111.8\" font-family=\"Helvetica,sans-Serif\" font-size=\"14.00\" fill=\"#000000\">class = Graduation</text>\n</g>\n<!-- 3&#45;&gt;4 -->\n<g id=\"edge4\" class=\"edge\">\n<title>3&#45;&gt;4</title>\n<path fill=\"none\" stroke=\"#000000\" d=\"M311.0373,-222.8796C299.0479,-213.368 286.2113,-203.1843 273.9184,-193.432\"/>\n<polygon fill=\"#000000\" stroke=\"#000000\" points=\"275.9425,-190.5701 265.9331,-187.0969 271.5919,-196.054 275.9425,-190.5701\"/>\n</g>\n<!-- 7 -->\n<g id=\"node8\" class=\"node\">\n<title>7</title>\n<path fill=\"#e58139\" stroke=\"#000000\" d=\"M420,-179.5C420,-179.5 313,-179.5 313,-179.5 307,-179.5 301,-173.5 301,-167.5 301,-167.5 301,-123.5 301,-123.5 301,-117.5 307,-111.5 313,-111.5 313,-111.5 420,-111.5 420,-111.5 426,-111.5 432,-117.5 432,-123.5 432,-123.5 432,-167.5 432,-167.5 432,-173.5 426,-179.5 420,-179.5\"/>\n<text text-anchor=\"middle\" x=\"366.5\" y=\"-164.3\" font-family=\"Helvetica,sans-Serif\" font-size=\"14.00\" fill=\"#000000\">gini = 0.0</text>\n<text text-anchor=\"middle\" x=\"366.5\" y=\"-149.3\" font-family=\"Helvetica,sans-Serif\" font-size=\"14.00\" fill=\"#000000\">samples = 3</text>\n<text text-anchor=\"middle\" x=\"366.5\" y=\"-134.3\" font-family=\"Helvetica,sans-Serif\" font-size=\"14.00\" fill=\"#000000\">value = [3, 0, 0, 0]</text>\n<text text-anchor=\"middle\" x=\"366.5\" y=\"-119.3\" font-family=\"Helvetica,sans-Serif\" font-size=\"14.00\" fill=\"#000000\">class = Basic</text>\n</g>\n<!-- 3&#45;&gt;7 -->\n<g id=\"edge7\" class=\"edge\">\n<title>3&#45;&gt;7</title>\n<path fill=\"none\" stroke=\"#000000\" d=\"M364.5493,-222.8796C364.8182,-212.2134 365.1084,-200.7021 365.3806,-189.9015\"/>\n<polygon fill=\"#000000\" stroke=\"#000000\" points=\"368.8817,-189.9 365.6349,-179.8149 361.8839,-189.7235 368.8817,-189.9\"/>\n</g>\n<!-- 5 -->\n<g id=\"node6\" class=\"node\">\n<title>5</title>\n<path fill=\"#ffffff\" stroke=\"#000000\" d=\"M119,-68C119,-68 12,-68 12,-68 6,-68 0,-62 0,-56 0,-56 0,-12 0,-12 0,-6 6,0 12,0 12,0 119,0 119,0 125,0 131,-6 131,-12 131,-12 131,-56 131,-56 131,-62 125,-68 119,-68\"/>\n<text text-anchor=\"middle\" x=\"65.5\" y=\"-52.8\" font-family=\"Helvetica,sans-Serif\" font-size=\"14.00\" fill=\"#000000\">gini = 0.5</text>\n<text text-anchor=\"middle\" x=\"65.5\" y=\"-37.8\" font-family=\"Helvetica,sans-Serif\" font-size=\"14.00\" fill=\"#000000\">samples = 2</text>\n<text text-anchor=\"middle\" x=\"65.5\" y=\"-22.8\" font-family=\"Helvetica,sans-Serif\" font-size=\"14.00\" fill=\"#000000\">value = [1, 1, 0, 0]</text>\n<text text-anchor=\"middle\" x=\"65.5\" y=\"-7.8\" font-family=\"Helvetica,sans-Serif\" font-size=\"14.00\" fill=\"#000000\">class = Basic</text>\n</g>\n<!-- 4&#45;&gt;5 -->\n<g id=\"edge5\" class=\"edge\">\n<title>4&#45;&gt;5</title>\n<path fill=\"none\" stroke=\"#000000\" d=\"M158.3903,-103.9815C145.581,-94.3313 131.9625,-84.0714 119.2144,-74.4673\"/>\n<polygon fill=\"#000000\" stroke=\"#000000\" points=\"121.0731,-71.4855 110.98,-68.2637 116.861,-77.0764 121.0731,-71.4855\"/>\n</g>\n<!-- 6 -->\n<g id=\"node7\" class=\"node\">\n<title>6</title>\n<path fill=\"#47e539\" stroke=\"#000000\" d=\"M275.5,-68C275.5,-68 161.5,-68 161.5,-68 155.5,-68 149.5,-62 149.5,-56 149.5,-56 149.5,-12 149.5,-12 149.5,-6 155.5,0 161.5,0 161.5,0 275.5,0 275.5,0 281.5,0 287.5,-6 287.5,-12 287.5,-12 287.5,-56 287.5,-56 287.5,-62 281.5,-68 275.5,-68\"/>\n<text text-anchor=\"middle\" x=\"218.5\" y=\"-52.8\" font-family=\"Helvetica,sans-Serif\" font-size=\"14.00\" fill=\"#000000\">gini = 0.0</text>\n<text text-anchor=\"middle\" x=\"218.5\" y=\"-37.8\" font-family=\"Helvetica,sans-Serif\" font-size=\"14.00\" fill=\"#000000\">samples = 2</text>\n<text text-anchor=\"middle\" x=\"218.5\" y=\"-22.8\" font-family=\"Helvetica,sans-Serif\" font-size=\"14.00\" fill=\"#000000\">value = [0, 2, 0, 0]</text>\n<text text-anchor=\"middle\" x=\"218.5\" y=\"-7.8\" font-family=\"Helvetica,sans-Serif\" font-size=\"14.00\" fill=\"#000000\">class = Graduation</text>\n</g>\n<!-- 4&#45;&gt;6 -->\n<g id=\"edge6\" class=\"edge\">\n<title>4&#45;&gt;6</title>\n<path fill=\"none\" stroke=\"#000000\" d=\"M215.3618,-103.9815C215.7369,-95.618 216.1324,-86.7965 216.5116,-78.3409\"/>\n<polygon fill=\"#000000\" stroke=\"#000000\" points=\"220.0119,-78.4105 216.9635,-68.2637 213.019,-78.0968 220.0119,-78.4105\"/>\n</g>\n<!-- 9 -->\n<g id=\"node10\" class=\"node\">\n<title>9</title>\n<path fill=\"#9bf194\" stroke=\"#000000\" d=\"M601,-306C601,-306 470,-306 470,-306 464,-306 458,-300 458,-294 458,-294 458,-235 458,-235 458,-229 464,-223 470,-223 470,-223 601,-223 601,-223 607,-223 613,-229 613,-235 613,-235 613,-294 613,-294 613,-300 607,-306 601,-306\"/>\n<text text-anchor=\"middle\" x=\"535.5\" y=\"-290.8\" font-family=\"Helvetica,sans-Serif\" font-size=\"14.00\" fill=\"#000000\">Income &lt;= 1121.0</text>\n<text text-anchor=\"middle\" x=\"535.5\" y=\"-275.8\" font-family=\"Helvetica,sans-Serif\" font-size=\"14.00\" fill=\"#000000\">gini = 0.535</text>\n<text text-anchor=\"middle\" x=\"535.5\" y=\"-260.8\" font-family=\"Helvetica,sans-Serif\" font-size=\"14.00\" fill=\"#000000\">samples = 89</text>\n<text text-anchor=\"middle\" x=\"535.5\" y=\"-245.8\" font-family=\"Helvetica,sans-Serif\" font-size=\"14.00\" fill=\"#000000\">value = [0, 56, 16, 17]</text>\n<text text-anchor=\"middle\" x=\"535.5\" y=\"-230.8\" font-family=\"Helvetica,sans-Serif\" font-size=\"14.00\" fill=\"#000000\">class = Graduation</text>\n</g>\n<!-- 8&#45;&gt;9 -->\n<g id=\"edge9\" class=\"edge\">\n<title>8&#45;&gt;9</title>\n<path fill=\"none\" stroke=\"#000000\" d=\"M535.5,-341.8796C535.5,-333.6838 535.5,-324.9891 535.5,-316.5013\"/>\n<polygon fill=\"#000000\" stroke=\"#000000\" points=\"539.0001,-316.298 535.5,-306.2981 532.0001,-316.2981 539.0001,-316.298\"/>\n</g>\n<!-- 16 -->\n<g id=\"node17\" class=\"node\">\n<title>16</title>\n<path fill=\"#d739e5\" stroke=\"#000000\" d=\"M750,-298.5C750,-298.5 643,-298.5 643,-298.5 637,-298.5 631,-292.5 631,-286.5 631,-286.5 631,-242.5 631,-242.5 631,-236.5 637,-230.5 643,-230.5 643,-230.5 750,-230.5 750,-230.5 756,-230.5 762,-236.5 762,-242.5 762,-242.5 762,-286.5 762,-286.5 762,-292.5 756,-298.5 750,-298.5\"/>\n<text text-anchor=\"middle\" x=\"696.5\" y=\"-283.3\" font-family=\"Helvetica,sans-Serif\" font-size=\"14.00\" fill=\"#000000\">gini = 0.0</text>\n<text text-anchor=\"middle\" x=\"696.5\" y=\"-268.3\" font-family=\"Helvetica,sans-Serif\" font-size=\"14.00\" fill=\"#000000\">samples = 2</text>\n<text text-anchor=\"middle\" x=\"696.5\" y=\"-253.3\" font-family=\"Helvetica,sans-Serif\" font-size=\"14.00\" fill=\"#000000\">value = [0, 0, 0, 2]</text>\n<text text-anchor=\"middle\" x=\"696.5\" y=\"-238.3\" font-family=\"Helvetica,sans-Serif\" font-size=\"14.00\" fill=\"#000000\">class = PhD</text>\n</g>\n<!-- 8&#45;&gt;16 -->\n<g id=\"edge16\" class=\"edge\">\n<title>8&#45;&gt;16</title>\n<path fill=\"none\" stroke=\"#000000\" d=\"M591.81,-341.8796C608.1032,-329.8368 625.8539,-316.7167 642.0325,-304.7586\"/>\n<polygon fill=\"#000000\" stroke=\"#000000\" points=\"644.3721,-307.3816 650.3335,-298.623 640.2114,-301.7524 644.3721,-307.3816\"/>\n</g>\n<!-- 10 -->\n<g id=\"node11\" class=\"node\">\n<title>10</title>\n<path fill=\"#95f08d\" stroke=\"#000000\" d=\"M598,-187C598,-187 467,-187 467,-187 461,-187 455,-181 455,-175 455,-175 455,-116 455,-116 455,-110 461,-104 467,-104 467,-104 598,-104 598,-104 604,-104 610,-110 610,-116 610,-116 610,-175 610,-175 610,-181 604,-187 598,-187\"/>\n<text text-anchor=\"middle\" x=\"532.5\" y=\"-171.8\" font-family=\"Helvetica,sans-Serif\" font-size=\"14.00\" fill=\"#000000\">Income &lt;= 126.5</text>\n<text text-anchor=\"middle\" x=\"532.5\" y=\"-156.8\" font-family=\"Helvetica,sans-Serif\" font-size=\"14.00\" fill=\"#000000\">gini = 0.508</text>\n<text text-anchor=\"middle\" x=\"532.5\" y=\"-141.8\" font-family=\"Helvetica,sans-Serif\" font-size=\"14.00\" fill=\"#000000\">samples = 79</text>\n<text text-anchor=\"middle\" x=\"532.5\" y=\"-126.8\" font-family=\"Helvetica,sans-Serif\" font-size=\"14.00\" fill=\"#000000\">value = [0, 52, 12, 15]</text>\n<text text-anchor=\"middle\" x=\"532.5\" y=\"-111.8\" font-family=\"Helvetica,sans-Serif\" font-size=\"14.00\" fill=\"#000000\">class = Graduation</text>\n</g>\n<!-- 9&#45;&gt;10 -->\n<g id=\"edge10\" class=\"edge\">\n<title>9&#45;&gt;10</title>\n<path fill=\"none\" stroke=\"#000000\" d=\"M534.4507,-222.8796C534.2441,-214.6838 534.0249,-205.9891 533.811,-197.5013\"/>\n<polygon fill=\"#000000\" stroke=\"#000000\" points=\"537.3047,-197.2067 533.5537,-187.2981 530.307,-197.3831 537.3047,-197.2067\"/>\n</g>\n<!-- 13 -->\n<g id=\"node14\" class=\"node\">\n<title>13</title>\n<path fill=\"#ffffff\" stroke=\"#000000\" d=\"M768.5,-187C768.5,-187 640.5,-187 640.5,-187 634.5,-187 628.5,-181 628.5,-175 628.5,-175 628.5,-116 628.5,-116 628.5,-110 634.5,-104 640.5,-104 640.5,-104 768.5,-104 768.5,-104 774.5,-104 780.5,-110 780.5,-116 780.5,-116 780.5,-175 780.5,-175 780.5,-181 774.5,-187 768.5,-187\"/>\n<text text-anchor=\"middle\" x=\"704.5\" y=\"-171.8\" font-family=\"Helvetica,sans-Serif\" font-size=\"14.00\" fill=\"#000000\">Year_Birth &lt;= 1982.5</text>\n<text text-anchor=\"middle\" x=\"704.5\" y=\"-156.8\" font-family=\"Helvetica,sans-Serif\" font-size=\"14.00\" fill=\"#000000\">gini = 0.64</text>\n<text text-anchor=\"middle\" x=\"704.5\" y=\"-141.8\" font-family=\"Helvetica,sans-Serif\" font-size=\"14.00\" fill=\"#000000\">samples = 10</text>\n<text text-anchor=\"middle\" x=\"704.5\" y=\"-126.8\" font-family=\"Helvetica,sans-Serif\" font-size=\"14.00\" fill=\"#000000\">value = [0, 4, 4, 2]</text>\n<text text-anchor=\"middle\" x=\"704.5\" y=\"-111.8\" font-family=\"Helvetica,sans-Serif\" font-size=\"14.00\" fill=\"#000000\">class = Graduation</text>\n</g>\n<!-- 9&#45;&gt;13 -->\n<g id=\"edge13\" class=\"edge\">\n<title>9&#45;&gt;13</title>\n<path fill=\"none\" stroke=\"#000000\" d=\"M594.608,-222.8796C608.3734,-213.1868 623.1299,-202.7961 637.2193,-192.8752\"/>\n<polygon fill=\"#000000\" stroke=\"#000000\" points=\"639.2641,-195.716 645.4254,-187.0969 635.2339,-189.9926 639.2641,-195.716\"/>\n</g>\n<!-- 11 -->\n<g id=\"node12\" class=\"node\">\n<title>11</title>\n<path fill=\"#a9f3a2\" stroke=\"#000000\" d=\"M442,-68C442,-68 327,-68 327,-68 321,-68 315,-62 315,-56 315,-56 315,-12 315,-12 315,-6 321,0 327,0 327,0 442,0 442,0 448,0 454,-6 454,-12 454,-12 454,-56 454,-56 454,-62 448,-68 442,-68\"/>\n<text text-anchor=\"middle\" x=\"384.5\" y=\"-52.8\" font-family=\"Helvetica,sans-Serif\" font-size=\"14.00\" fill=\"#000000\">gini = 0.571</text>\n<text text-anchor=\"middle\" x=\"384.5\" y=\"-37.8\" font-family=\"Helvetica,sans-Serif\" font-size=\"14.00\" fill=\"#000000\">samples = 41</text>\n<text text-anchor=\"middle\" x=\"384.5\" y=\"-22.8\" font-family=\"Helvetica,sans-Serif\" font-size=\"14.00\" fill=\"#000000\">value = [0, 24, 9, 8]</text>\n<text text-anchor=\"middle\" x=\"384.5\" y=\"-7.8\" font-family=\"Helvetica,sans-Serif\" font-size=\"14.00\" fill=\"#000000\">class = Graduation</text>\n</g>\n<!-- 10&#45;&gt;11 -->\n<g id=\"edge11\" class=\"edge\">\n<title>10&#45;&gt;11</title>\n<path fill=\"none\" stroke=\"#000000\" d=\"M477.3903,-103.9815C464.581,-94.3313 450.9625,-84.0714 438.2144,-74.4673\"/>\n<polygon fill=\"#000000\" stroke=\"#000000\" points=\"440.0731,-71.4855 429.98,-68.2637 435.861,-77.0764 440.0731,-71.4855\"/>\n</g>\n<!-- 12 -->\n<g id=\"node13\" class=\"node\">\n<title>12</title>\n<path fill=\"#82ed79\" stroke=\"#000000\" d=\"M599,-68C599,-68 484,-68 484,-68 478,-68 472,-62 472,-56 472,-56 472,-12 472,-12 472,-6 478,0 484,0 484,0 599,0 599,0 605,0 611,-6 611,-12 611,-12 611,-56 611,-56 611,-62 605,-68 599,-68\"/>\n<text text-anchor=\"middle\" x=\"541.5\" y=\"-52.8\" font-family=\"Helvetica,sans-Serif\" font-size=\"14.00\" fill=\"#000000\">gini = 0.417</text>\n<text text-anchor=\"middle\" x=\"541.5\" y=\"-37.8\" font-family=\"Helvetica,sans-Serif\" font-size=\"14.00\" fill=\"#000000\">samples = 38</text>\n<text text-anchor=\"middle\" x=\"541.5\" y=\"-22.8\" font-family=\"Helvetica,sans-Serif\" font-size=\"14.00\" fill=\"#000000\">value = [0, 28, 3, 7]</text>\n<text text-anchor=\"middle\" x=\"541.5\" y=\"-7.8\" font-family=\"Helvetica,sans-Serif\" font-size=\"14.00\" fill=\"#000000\">class = Graduation</text>\n</g>\n<!-- 10&#45;&gt;12 -->\n<g id=\"edge12\" class=\"edge\">\n<title>10&#45;&gt;12</title>\n<path fill=\"none\" stroke=\"#000000\" d=\"M535.8513,-103.9815C536.5263,-95.618 537.2384,-86.7965 537.9209,-78.3409\"/>\n<polygon fill=\"#000000\" stroke=\"#000000\" points=\"541.4183,-78.5129 538.7343,-68.2637 534.441,-77.9496 541.4183,-78.5129\"/>\n</g>\n<!-- 14 -->\n<g id=\"node15\" class=\"node\">\n<title>14</title>\n<path fill=\"#9ccef2\" stroke=\"#000000\" d=\"M753,-68C753,-68 646,-68 646,-68 640,-68 634,-62 634,-56 634,-56 634,-12 634,-12 634,-6 640,0 646,0 646,0 753,0 753,0 759,0 765,-6 765,-12 765,-12 765,-56 765,-56 765,-62 759,-68 753,-68\"/>\n<text text-anchor=\"middle\" x=\"699.5\" y=\"-52.8\" font-family=\"Helvetica,sans-Serif\" font-size=\"14.00\" fill=\"#000000\">gini = 0.444</text>\n<text text-anchor=\"middle\" x=\"699.5\" y=\"-37.8\" font-family=\"Helvetica,sans-Serif\" font-size=\"14.00\" fill=\"#000000\">samples = 6</text>\n<text text-anchor=\"middle\" x=\"699.5\" y=\"-22.8\" font-family=\"Helvetica,sans-Serif\" font-size=\"14.00\" fill=\"#000000\">value = [0, 0, 4, 2]</text>\n<text text-anchor=\"middle\" x=\"699.5\" y=\"-7.8\" font-family=\"Helvetica,sans-Serif\" font-size=\"14.00\" fill=\"#000000\">class = Masters</text>\n</g>\n<!-- 13&#45;&gt;14 -->\n<g id=\"edge14\" class=\"edge\">\n<title>13&#45;&gt;14</title>\n<path fill=\"none\" stroke=\"#000000\" d=\"M702.6382,-103.9815C702.2631,-95.618 701.8676,-86.7965 701.4884,-78.3409\"/>\n<polygon fill=\"#000000\" stroke=\"#000000\" points=\"704.981,-78.0968 701.0365,-68.2637 697.9881,-78.4105 704.981,-78.0968\"/>\n</g>\n<!-- 15 -->\n<g id=\"node16\" class=\"node\">\n<title>15</title>\n<path fill=\"#47e539\" stroke=\"#000000\" d=\"M909.5,-68C909.5,-68 795.5,-68 795.5,-68 789.5,-68 783.5,-62 783.5,-56 783.5,-56 783.5,-12 783.5,-12 783.5,-6 789.5,0 795.5,0 795.5,0 909.5,0 909.5,0 915.5,0 921.5,-6 921.5,-12 921.5,-12 921.5,-56 921.5,-56 921.5,-62 915.5,-68 909.5,-68\"/>\n<text text-anchor=\"middle\" x=\"852.5\" y=\"-52.8\" font-family=\"Helvetica,sans-Serif\" font-size=\"14.00\" fill=\"#000000\">gini = 0.0</text>\n<text text-anchor=\"middle\" x=\"852.5\" y=\"-37.8\" font-family=\"Helvetica,sans-Serif\" font-size=\"14.00\" fill=\"#000000\">samples = 4</text>\n<text text-anchor=\"middle\" x=\"852.5\" y=\"-22.8\" font-family=\"Helvetica,sans-Serif\" font-size=\"14.00\" fill=\"#000000\">value = [0, 4, 0, 0]</text>\n<text text-anchor=\"middle\" x=\"852.5\" y=\"-7.8\" font-family=\"Helvetica,sans-Serif\" font-size=\"14.00\" fill=\"#000000\">class = Graduation</text>\n</g>\n<!-- 13&#45;&gt;15 -->\n<g id=\"edge15\" class=\"edge\">\n<title>13&#45;&gt;15</title>\n<path fill=\"none\" stroke=\"#000000\" d=\"M759.6097,-103.9815C772.419,-94.3313 786.0375,-84.0714 798.7856,-74.4673\"/>\n<polygon fill=\"#000000\" stroke=\"#000000\" points=\"801.139,-77.0764 807.02,-68.2637 796.9269,-71.4855 801.139,-77.0764\"/>\n</g>\n</g>\n</svg>\n"
          },
          "metadata": {},
          "execution_count": 42
        }
      ]
    },
    {
      "cell_type": "code",
      "metadata": {
        "colab": {
          "base_uri": "https://localhost:8080/"
        },
        "id": "SMdP77eKs68u",
        "outputId": "cfcc9f84-cce1-46c7-80f8-bb6552c00ab6"
      },
      "source": [
        "##Data alteration outputs (Question 5)\n",
        "\n",
        "print(\"======== features = Year_Birth, Income, Kidhome, MntWines ========\") #Print features (X)\n",
        "print(\"======== 0 = Basic, 1 = Graduation, 2 = Master, 3 = PhD ========\") #Print classification labels for target (y)\n",
        "\n",
        "input1=[[1943, 98000, 0, 1150]] #input 1 -- Year_Birth= 1943, Income=98000, Kidhome=0, MntWines=900\n",
        "print(input1,tree_clf2.predict(input1)) #Output for input 1 with data alterations\n",
        "\n",
        "input2=[[1988, 17000, 3, 2]] #input 2 -- Year_Birth= 1988, Income=17000, Kidhome=3, MntWines=2\n",
        "print(input2,tree_clf2.predict(input2)) #Output for input 2 with data alterations\n",
        "\n",
        "input3=[[1977, 88000, 1, 550]] #input 3 -- Year_Birth= 1977, Income=88000, Kidhome=1, MntWines=550\n",
        "print(input3,tree_clf2.predict(input3)) #Output for input 3 with data alterations"
      ],
      "execution_count": null,
      "outputs": [
        {
          "output_type": "stream",
          "name": "stdout",
          "text": [
            "======== features = Year_Birth, Income, Kidhome, MntWines ========\n",
            "======== 0 = Basic, 1 = Graduation, 2 = Master, 3 = PhD ========\n",
            "[[1943, 98000, 0, 1150]] [3]\n",
            "[[1988, 17000, 3, 2]] [1]\n",
            "[[1977, 88000, 1, 550]] [2]\n"
          ]
        }
      ]
    },
    {
      "cell_type": "code",
      "metadata": {
        "colab": {
          "base_uri": "https://localhost:8080/",
          "height": 971
        },
        "id": "99YZ0lxr8Bxp",
        "outputId": "19f2a81a-affb-4ede-ca8a-fc8dde9a6a96"
      },
      "source": [
        "##Inconsistent data (Question 6)\n",
        "\n",
        "mkt_df3=mkt_df.copy(deep=True) #Create new DataFrame for inconsistent data work with a deep copy\n",
        "print(mkt_df.iloc[14,:]) #Find a row with education level = 'Basic'\n",
        "\n",
        "for e in range(1,6): #Loop through dataset to add inconsistencies to 19, 39, 59, 79, 99 rows\n",
        "               mkt_df3.iloc[(e*20)-1,0:4]=mkt_df.iloc[14,0:4] #Replace feature data in rows\n",
        "                                                          #19, 39, 59, 79, 99 with feature data\n",
        "                                                          #from row 14\n",
        "\n",
        "print(mkt_df3.iloc[19:100:20,:]) #Print rows 19, 39, 59, 79, 99 to show introduction of data inconsistencies\n",
        "\n",
        "#Make tree for q6\n",
        "mkt_npa3=mkt_df3.to_numpy() #Change DataFrame to np.array\n",
        "X3 = mkt_npa3[:,0:4] #X features - Year_Birth, Income, Kidhome, and MntWines\n",
        "y3 = mkt_npa3[:,4] #Y target - Education\n",
        "y3 = encoder.fit_transform(y3) #Encode for target variable (Education)\n",
        "\n",
        "\n",
        "#Use Gini measure in constructing decision tree\n",
        "tree_clf3 = DecisionTreeClassifier(max_depth=MAX_DEPTH, random_state=RANDOM_STATE) #Set parameters\n",
        "                                                      #for max_depth and random_state to defined constants\n",
        "                                                      #MAX_DEPTH and RANDOM_STATE\n",
        "#Apply the CART algorithm \n",
        "tree_clf3.fit(X3, y3) #Fit tree\n",
        "\n",
        "#Create the decision tree as \"mkt_tree3.dot\"\n",
        "export_graphviz( \n",
        "        tree_clf3, #Tree object\n",
        "        out_file=os.path.join(IMAGES_PATH, \"mkt_tree3.dot\"),\n",
        "        feature_names=np.asarray(COL_LIST[0:4]), #Use constant COL_LIST to name features\n",
        "        class_names=np.asarray(['Basic','Graduation','Masters','PhD']), #Class of target (y)\n",
        "        rounded=True,\n",
        "        filled=True\n",
        "    )\n",
        "\n",
        "Source.from_file(os.path.join(IMAGES_PATH, \"mkt_tree3.dot\"))  #Display tree\n"
      ],
      "execution_count": null,
      "outputs": [
        {
          "output_type": "stream",
          "name": "stdout",
          "text": [
            "Year_Birth     1992\n",
            "Income        15253\n",
            "Kidhome           1\n",
            "MntWines          1\n",
            "Education     Basic\n",
            "Name: 2164, dtype: object\n",
            "      Year_Birth   Income  Kidhome  MntWines   Education\n",
            "1740        1992  15253.0        1         1  Graduation\n",
            "1513        1992  15253.0        1         1  Graduation\n",
            "1448        1992  15253.0        1         1         PhD\n",
            "144         1992  15253.0        1         1  Graduation\n",
            "869         1992  15253.0        1         1  Graduation\n"
          ]
        },
        {
          "output_type": "execute_result",
          "data": {
            "text/plain": [
              "<graphviz.files.Source at 0x7f62926db090>"
            ],
            "image/svg+xml": "<?xml version=\"1.0\" encoding=\"UTF-8\" standalone=\"no\"?>\n<!DOCTYPE svg PUBLIC \"-//W3C//DTD SVG 1.1//EN\"\n \"http://www.w3.org/Graphics/SVG/1.1/DTD/svg11.dtd\">\n<!-- Generated by graphviz version 2.40.1 (20161225.0304)\n -->\n<!-- Title: Tree Pages: 1 -->\n<svg width=\"1229pt\" height=\"552pt\"\n viewBox=\"0.00 0.00 1228.50 552.00\" xmlns=\"http://www.w3.org/2000/svg\" xmlns:xlink=\"http://www.w3.org/1999/xlink\">\n<g id=\"graph0\" class=\"graph\" transform=\"scale(1 1) rotate(0) translate(4 548)\">\n<title>Tree</title>\n<polygon fill=\"#ffffff\" stroke=\"transparent\" points=\"-4,4 -4,-548 1224.5,-548 1224.5,4 -4,4\"/>\n<!-- 0 -->\n<g id=\"node1\" class=\"node\">\n<title>0</title>\n<path fill=\"#a4f29d\" stroke=\"#000000\" d=\"M696.5,-544C696.5,-544 565.5,-544 565.5,-544 559.5,-544 553.5,-538 553.5,-532 553.5,-532 553.5,-473 553.5,-473 553.5,-467 559.5,-461 565.5,-461 565.5,-461 696.5,-461 696.5,-461 702.5,-461 708.5,-467 708.5,-473 708.5,-473 708.5,-532 708.5,-532 708.5,-538 702.5,-544 696.5,-544\"/>\n<text text-anchor=\"middle\" x=\"631\" y=\"-528.8\" font-family=\"Helvetica,sans-Serif\" font-size=\"14.00\" fill=\"#000000\">Income &lt;= 77259.0</text>\n<text text-anchor=\"middle\" x=\"631\" y=\"-513.8\" font-family=\"Helvetica,sans-Serif\" font-size=\"14.00\" fill=\"#000000\">gini = 0.582</text>\n<text text-anchor=\"middle\" x=\"631\" y=\"-498.8\" font-family=\"Helvetica,sans-Serif\" font-size=\"14.00\" fill=\"#000000\">samples = 100</text>\n<text text-anchor=\"middle\" x=\"631\" y=\"-483.8\" font-family=\"Helvetica,sans-Serif\" font-size=\"14.00\" fill=\"#000000\">value = [4, 59, 18, 19]</text>\n<text text-anchor=\"middle\" x=\"631\" y=\"-468.8\" font-family=\"Helvetica,sans-Serif\" font-size=\"14.00\" fill=\"#000000\">class = Graduation</text>\n</g>\n<!-- 1 -->\n<g id=\"node2\" class=\"node\">\n<title>1</title>\n<path fill=\"#97f08f\" stroke=\"#000000\" d=\"M574.5,-425C574.5,-425 443.5,-425 443.5,-425 437.5,-425 431.5,-419 431.5,-413 431.5,-413 431.5,-354 431.5,-354 431.5,-348 437.5,-342 443.5,-342 443.5,-342 574.5,-342 574.5,-342 580.5,-342 586.5,-348 586.5,-354 586.5,-354 586.5,-413 586.5,-413 586.5,-419 580.5,-425 574.5,-425\"/>\n<text text-anchor=\"middle\" x=\"509\" y=\"-409.8\" font-family=\"Helvetica,sans-Serif\" font-size=\"14.00\" fill=\"#000000\">MntWines &lt;= 0.5</text>\n<text text-anchor=\"middle\" x=\"509\" y=\"-394.8\" font-family=\"Helvetica,sans-Serif\" font-size=\"14.00\" fill=\"#000000\">gini = 0.542</text>\n<text text-anchor=\"middle\" x=\"509\" y=\"-379.8\" font-family=\"Helvetica,sans-Serif\" font-size=\"14.00\" fill=\"#000000\">samples = 88</text>\n<text text-anchor=\"middle\" x=\"509\" y=\"-364.8\" font-family=\"Helvetica,sans-Serif\" font-size=\"14.00\" fill=\"#000000\">value = [4, 56, 14, 14]</text>\n<text text-anchor=\"middle\" x=\"509\" y=\"-349.8\" font-family=\"Helvetica,sans-Serif\" font-size=\"14.00\" fill=\"#000000\">class = Graduation</text>\n</g>\n<!-- 0&#45;&gt;1 -->\n<g id=\"edge1\" class=\"edge\">\n<title>0&#45;&gt;1</title>\n<path fill=\"none\" stroke=\"#000000\" d=\"M588.3303,-460.8796C578.9123,-451.6931 568.8516,-441.8798 559.1672,-432.4336\"/>\n<polygon fill=\"#000000\" stroke=\"#000000\" points=\"561.4543,-429.7751 551.8518,-425.2981 556.5665,-434.7861 561.4543,-429.7751\"/>\n<text text-anchor=\"middle\" x=\"552.163\" y=\"-446.5961\" font-family=\"Helvetica,sans-Serif\" font-size=\"14.00\" fill=\"#000000\">True</text>\n</g>\n<!-- 10 -->\n<g id=\"node11\" class=\"node\">\n<title>10</title>\n<path fill=\"#fae6fc\" stroke=\"#000000\" d=\"M817,-425C817,-425 689,-425 689,-425 683,-425 677,-419 677,-413 677,-413 677,-354 677,-354 677,-348 683,-342 689,-342 689,-342 817,-342 817,-342 823,-342 829,-348 829,-354 829,-354 829,-413 829,-413 829,-419 823,-425 817,-425\"/>\n<text text-anchor=\"middle\" x=\"753\" y=\"-409.8\" font-family=\"Helvetica,sans-Serif\" font-size=\"14.00\" fill=\"#000000\">Year_Birth &lt;= 1982.5</text>\n<text text-anchor=\"middle\" x=\"753\" y=\"-394.8\" font-family=\"Helvetica,sans-Serif\" font-size=\"14.00\" fill=\"#000000\">gini = 0.653</text>\n<text text-anchor=\"middle\" x=\"753\" y=\"-379.8\" font-family=\"Helvetica,sans-Serif\" font-size=\"14.00\" fill=\"#000000\">samples = 12</text>\n<text text-anchor=\"middle\" x=\"753\" y=\"-364.8\" font-family=\"Helvetica,sans-Serif\" font-size=\"14.00\" fill=\"#000000\">value = [0, 3, 4, 5]</text>\n<text text-anchor=\"middle\" x=\"753\" y=\"-349.8\" font-family=\"Helvetica,sans-Serif\" font-size=\"14.00\" fill=\"#000000\">class = PhD</text>\n</g>\n<!-- 0&#45;&gt;10 -->\n<g id=\"edge10\" class=\"edge\">\n<title>0&#45;&gt;10</title>\n<path fill=\"none\" stroke=\"#000000\" d=\"M673.6697,-460.8796C683.0877,-451.6931 693.1484,-441.8798 702.8328,-432.4336\"/>\n<polygon fill=\"#000000\" stroke=\"#000000\" points=\"705.4335,-434.7861 710.1482,-425.2981 700.5457,-429.7751 705.4335,-434.7861\"/>\n<text text-anchor=\"middle\" x=\"709.837\" y=\"-446.5961\" font-family=\"Helvetica,sans-Serif\" font-size=\"14.00\" fill=\"#000000\">False</text>\n</g>\n<!-- 2 -->\n<g id=\"node3\" class=\"node\">\n<title>2</title>\n<path fill=\"#399de5\" stroke=\"#000000\" d=\"M401.5,-298.5C401.5,-298.5 294.5,-298.5 294.5,-298.5 288.5,-298.5 282.5,-292.5 282.5,-286.5 282.5,-286.5 282.5,-242.5 282.5,-242.5 282.5,-236.5 288.5,-230.5 294.5,-230.5 294.5,-230.5 401.5,-230.5 401.5,-230.5 407.5,-230.5 413.5,-236.5 413.5,-242.5 413.5,-242.5 413.5,-286.5 413.5,-286.5 413.5,-292.5 407.5,-298.5 401.5,-298.5\"/>\n<text text-anchor=\"middle\" x=\"348\" y=\"-283.3\" font-family=\"Helvetica,sans-Serif\" font-size=\"14.00\" fill=\"#000000\">gini = 0.0</text>\n<text text-anchor=\"middle\" x=\"348\" y=\"-268.3\" font-family=\"Helvetica,sans-Serif\" font-size=\"14.00\" fill=\"#000000\">samples = 2</text>\n<text text-anchor=\"middle\" x=\"348\" y=\"-253.3\" font-family=\"Helvetica,sans-Serif\" font-size=\"14.00\" fill=\"#000000\">value = [0, 0, 2, 0]</text>\n<text text-anchor=\"middle\" x=\"348\" y=\"-238.3\" font-family=\"Helvetica,sans-Serif\" font-size=\"14.00\" fill=\"#000000\">class = Masters</text>\n</g>\n<!-- 1&#45;&gt;2 -->\n<g id=\"edge2\" class=\"edge\">\n<title>1&#45;&gt;2</title>\n<path fill=\"none\" stroke=\"#000000\" d=\"M452.69,-341.8796C436.3968,-329.8368 418.6461,-316.7167 402.4675,-304.7586\"/>\n<polygon fill=\"#000000\" stroke=\"#000000\" points=\"404.2886,-301.7524 394.1665,-298.623 400.1279,-307.3816 404.2886,-301.7524\"/>\n</g>\n<!-- 3 -->\n<g id=\"node4\" class=\"node\">\n<title>3</title>\n<path fill=\"#94f08c\" stroke=\"#000000\" d=\"M574.5,-306C574.5,-306 443.5,-306 443.5,-306 437.5,-306 431.5,-300 431.5,-294 431.5,-294 431.5,-235 431.5,-235 431.5,-229 437.5,-223 443.5,-223 443.5,-223 574.5,-223 574.5,-223 580.5,-223 586.5,-229 586.5,-235 586.5,-235 586.5,-294 586.5,-294 586.5,-300 580.5,-306 574.5,-306\"/>\n<text text-anchor=\"middle\" x=\"509\" y=\"-290.8\" font-family=\"Helvetica,sans-Serif\" font-size=\"14.00\" fill=\"#000000\">MntWines &lt;= 2.5</text>\n<text text-anchor=\"middle\" x=\"509\" y=\"-275.8\" font-family=\"Helvetica,sans-Serif\" font-size=\"14.00\" fill=\"#000000\">gini = 0.528</text>\n<text text-anchor=\"middle\" x=\"509\" y=\"-260.8\" font-family=\"Helvetica,sans-Serif\" font-size=\"14.00\" fill=\"#000000\">samples = 86</text>\n<text text-anchor=\"middle\" x=\"509\" y=\"-245.8\" font-family=\"Helvetica,sans-Serif\" font-size=\"14.00\" fill=\"#000000\">value = [4, 56, 12, 14]</text>\n<text text-anchor=\"middle\" x=\"509\" y=\"-230.8\" font-family=\"Helvetica,sans-Serif\" font-size=\"14.00\" fill=\"#000000\">class = Graduation</text>\n</g>\n<!-- 1&#45;&gt;3 -->\n<g id=\"edge3\" class=\"edge\">\n<title>1&#45;&gt;3</title>\n<path fill=\"none\" stroke=\"#000000\" d=\"M509,-341.8796C509,-333.6838 509,-324.9891 509,-316.5013\"/>\n<polygon fill=\"#000000\" stroke=\"#000000\" points=\"512.5001,-316.298 509,-306.2981 505.5001,-316.2981 512.5001,-316.298\"/>\n</g>\n<!-- 4 -->\n<g id=\"node5\" class=\"node\">\n<title>4</title>\n<path fill=\"#baf5b5\" stroke=\"#000000\" d=\"M284,-187C284,-187 166,-187 166,-187 160,-187 154,-181 154,-175 154,-175 154,-116 154,-116 154,-110 160,-104 166,-104 166,-104 284,-104 284,-104 290,-104 296,-110 296,-116 296,-116 296,-175 296,-175 296,-181 290,-187 284,-187\"/>\n<text text-anchor=\"middle\" x=\"225\" y=\"-171.8\" font-family=\"Helvetica,sans-Serif\" font-size=\"14.00\" fill=\"#000000\">Income &lt;= 28087.0</text>\n<text text-anchor=\"middle\" x=\"225\" y=\"-156.8\" font-family=\"Helvetica,sans-Serif\" font-size=\"14.00\" fill=\"#000000\">gini = 0.542</text>\n<text text-anchor=\"middle\" x=\"225\" y=\"-141.8\" font-family=\"Helvetica,sans-Serif\" font-size=\"14.00\" fill=\"#000000\">samples = 12</text>\n<text text-anchor=\"middle\" x=\"225\" y=\"-126.8\" font-family=\"Helvetica,sans-Serif\" font-size=\"14.00\" fill=\"#000000\">value = [4, 7, 0, 1]</text>\n<text text-anchor=\"middle\" x=\"225\" y=\"-111.8\" font-family=\"Helvetica,sans-Serif\" font-size=\"14.00\" fill=\"#000000\">class = Graduation</text>\n</g>\n<!-- 3&#45;&gt;4 -->\n<g id=\"edge4\" class=\"edge\">\n<title>3&#45;&gt;4</title>\n<path fill=\"none\" stroke=\"#000000\" d=\"M431.3362,-227.1213C428.1906,-225.7128 425.0696,-224.3339 422,-223 384.0955,-206.5279 341.4796,-189.5732 305.6051,-175.7382\"/>\n<polygon fill=\"#000000\" stroke=\"#000000\" points=\"306.7473,-172.4277 296.1574,-172.1066 304.2357,-178.9616 306.7473,-172.4277\"/>\n</g>\n<!-- 7 -->\n<g id=\"node8\" class=\"node\">\n<title>7</title>\n<path fill=\"#92f08a\" stroke=\"#000000\" d=\"M574.5,-187C574.5,-187 443.5,-187 443.5,-187 437.5,-187 431.5,-181 431.5,-175 431.5,-175 431.5,-116 431.5,-116 431.5,-110 437.5,-104 443.5,-104 443.5,-104 574.5,-104 574.5,-104 580.5,-104 586.5,-110 586.5,-116 586.5,-116 586.5,-175 586.5,-175 586.5,-181 580.5,-187 574.5,-187\"/>\n<text text-anchor=\"middle\" x=\"509\" y=\"-171.8\" font-family=\"Helvetica,sans-Serif\" font-size=\"14.00\" fill=\"#000000\">Income &lt;= 69728.5</text>\n<text text-anchor=\"middle\" x=\"509\" y=\"-156.8\" font-family=\"Helvetica,sans-Serif\" font-size=\"14.00\" fill=\"#000000\">gini = 0.504</text>\n<text text-anchor=\"middle\" x=\"509\" y=\"-141.8\" font-family=\"Helvetica,sans-Serif\" font-size=\"14.00\" fill=\"#000000\">samples = 74</text>\n<text text-anchor=\"middle\" x=\"509\" y=\"-126.8\" font-family=\"Helvetica,sans-Serif\" font-size=\"14.00\" fill=\"#000000\">value = [0, 49, 12, 13]</text>\n<text text-anchor=\"middle\" x=\"509\" y=\"-111.8\" font-family=\"Helvetica,sans-Serif\" font-size=\"14.00\" fill=\"#000000\">class = Graduation</text>\n</g>\n<!-- 3&#45;&gt;7 -->\n<g id=\"edge7\" class=\"edge\">\n<title>3&#45;&gt;7</title>\n<path fill=\"none\" stroke=\"#000000\" d=\"M509,-222.8796C509,-214.6838 509,-205.9891 509,-197.5013\"/>\n<polygon fill=\"#000000\" stroke=\"#000000\" points=\"512.5001,-197.298 509,-187.2981 505.5001,-197.2981 512.5001,-197.298\"/>\n</g>\n<!-- 5 -->\n<g id=\"node6\" class=\"node\">\n<title>5</title>\n<path fill=\"#e0fbde\" stroke=\"#000000\" d=\"M126,-68C126,-68 12,-68 12,-68 6,-68 0,-62 0,-56 0,-56 0,-12 0,-12 0,-6 6,0 12,0 12,0 126,0 126,0 132,0 138,-6 138,-12 138,-12 138,-56 138,-56 138,-62 132,-68 126,-68\"/>\n<text text-anchor=\"middle\" x=\"69\" y=\"-52.8\" font-family=\"Helvetica,sans-Serif\" font-size=\"14.00\" fill=\"#000000\">gini = 0.58</text>\n<text text-anchor=\"middle\" x=\"69\" y=\"-37.8\" font-family=\"Helvetica,sans-Serif\" font-size=\"14.00\" fill=\"#000000\">samples = 10</text>\n<text text-anchor=\"middle\" x=\"69\" y=\"-22.8\" font-family=\"Helvetica,sans-Serif\" font-size=\"14.00\" fill=\"#000000\">value = [4, 5, 0, 1]</text>\n<text text-anchor=\"middle\" x=\"69\" y=\"-7.8\" font-family=\"Helvetica,sans-Serif\" font-size=\"14.00\" fill=\"#000000\">class = Graduation</text>\n</g>\n<!-- 4&#45;&gt;5 -->\n<g id=\"edge5\" class=\"edge\">\n<title>4&#45;&gt;5</title>\n<path fill=\"none\" stroke=\"#000000\" d=\"M166.9114,-103.9815C153.2811,-94.2394 138.7816,-83.8759 125.2342,-74.193\"/>\n<polygon fill=\"#000000\" stroke=\"#000000\" points=\"127.1092,-71.2311 116.9384,-68.2637 123.0388,-76.926 127.1092,-71.2311\"/>\n</g>\n<!-- 6 -->\n<g id=\"node7\" class=\"node\">\n<title>6</title>\n<path fill=\"#47e539\" stroke=\"#000000\" d=\"M282,-68C282,-68 168,-68 168,-68 162,-68 156,-62 156,-56 156,-56 156,-12 156,-12 156,-6 162,0 168,0 168,0 282,0 282,0 288,0 294,-6 294,-12 294,-12 294,-56 294,-56 294,-62 288,-68 282,-68\"/>\n<text text-anchor=\"middle\" x=\"225\" y=\"-52.8\" font-family=\"Helvetica,sans-Serif\" font-size=\"14.00\" fill=\"#000000\">gini = 0.0</text>\n<text text-anchor=\"middle\" x=\"225\" y=\"-37.8\" font-family=\"Helvetica,sans-Serif\" font-size=\"14.00\" fill=\"#000000\">samples = 2</text>\n<text text-anchor=\"middle\" x=\"225\" y=\"-22.8\" font-family=\"Helvetica,sans-Serif\" font-size=\"14.00\" fill=\"#000000\">value = [0, 2, 0, 0]</text>\n<text text-anchor=\"middle\" x=\"225\" y=\"-7.8\" font-family=\"Helvetica,sans-Serif\" font-size=\"14.00\" fill=\"#000000\">class = Graduation</text>\n</g>\n<!-- 4&#45;&gt;6 -->\n<g id=\"edge6\" class=\"edge\">\n<title>4&#45;&gt;6</title>\n<path fill=\"none\" stroke=\"#000000\" d=\"M225,-103.9815C225,-95.618 225,-86.7965 225,-78.3409\"/>\n<polygon fill=\"#000000\" stroke=\"#000000\" points=\"228.5001,-78.2636 225,-68.2637 221.5001,-78.2637 228.5001,-78.2636\"/>\n</g>\n<!-- 8 -->\n<g id=\"node9\" class=\"node\">\n<title>8</title>\n<path fill=\"#9cf195\" stroke=\"#000000\" d=\"M455.5,-68C455.5,-68 324.5,-68 324.5,-68 318.5,-68 312.5,-62 312.5,-56 312.5,-56 312.5,-12 312.5,-12 312.5,-6 318.5,0 324.5,0 324.5,0 455.5,0 455.5,0 461.5,0 467.5,-6 467.5,-12 467.5,-12 467.5,-56 467.5,-56 467.5,-62 461.5,-68 455.5,-68\"/>\n<text text-anchor=\"middle\" x=\"390\" y=\"-52.8\" font-family=\"Helvetica,sans-Serif\" font-size=\"14.00\" fill=\"#000000\">gini = 0.537</text>\n<text text-anchor=\"middle\" x=\"390\" y=\"-37.8\" font-family=\"Helvetica,sans-Serif\" font-size=\"14.00\" fill=\"#000000\">samples = 67</text>\n<text text-anchor=\"middle\" x=\"390\" y=\"-22.8\" font-family=\"Helvetica,sans-Serif\" font-size=\"14.00\" fill=\"#000000\">value = [0, 42, 12, 13]</text>\n<text text-anchor=\"middle\" x=\"390\" y=\"-7.8\" font-family=\"Helvetica,sans-Serif\" font-size=\"14.00\" fill=\"#000000\">class = Graduation</text>\n</g>\n<!-- 7&#45;&gt;8 -->\n<g id=\"edge8\" class=\"edge\">\n<title>7&#45;&gt;8</title>\n<path fill=\"none\" stroke=\"#000000\" d=\"M464.6888,-103.9815C454.6837,-94.607 444.0646,-84.6572 434.0696,-75.2921\"/>\n<polygon fill=\"#000000\" stroke=\"#000000\" points=\"436.2588,-72.547 426.5684,-68.2637 431.4726,-77.6551 436.2588,-72.547\"/>\n</g>\n<!-- 9 -->\n<g id=\"node10\" class=\"node\">\n<title>9</title>\n<path fill=\"#47e539\" stroke=\"#000000\" d=\"M612,-68C612,-68 498,-68 498,-68 492,-68 486,-62 486,-56 486,-56 486,-12 486,-12 486,-6 492,0 498,0 498,0 612,0 612,0 618,0 624,-6 624,-12 624,-12 624,-56 624,-56 624,-62 618,-68 612,-68\"/>\n<text text-anchor=\"middle\" x=\"555\" y=\"-52.8\" font-family=\"Helvetica,sans-Serif\" font-size=\"14.00\" fill=\"#000000\">gini = 0.0</text>\n<text text-anchor=\"middle\" x=\"555\" y=\"-37.8\" font-family=\"Helvetica,sans-Serif\" font-size=\"14.00\" fill=\"#000000\">samples = 7</text>\n<text text-anchor=\"middle\" x=\"555\" y=\"-22.8\" font-family=\"Helvetica,sans-Serif\" font-size=\"14.00\" fill=\"#000000\">value = [0, 7, 0, 0]</text>\n<text text-anchor=\"middle\" x=\"555\" y=\"-7.8\" font-family=\"Helvetica,sans-Serif\" font-size=\"14.00\" fill=\"#000000\">class = Graduation</text>\n</g>\n<!-- 7&#45;&gt;9 -->\n<g id=\"edge9\" class=\"edge\">\n<title>7&#45;&gt;9</title>\n<path fill=\"none\" stroke=\"#000000\" d=\"M526.1287,-103.9815C529.655,-95.4342 533.3785,-86.4086 536.9367,-77.7839\"/>\n<polygon fill=\"#000000\" stroke=\"#000000\" points=\"540.286,-78.8427 540.8643,-68.2637 533.815,-76.1731 540.286,-78.8427\"/>\n</g>\n<!-- 11 -->\n<g id=\"node12\" class=\"node\">\n<title>11</title>\n<path fill=\"#f7d7fa\" stroke=\"#000000\" d=\"M817,-306C817,-306 689,-306 689,-306 683,-306 677,-300 677,-294 677,-294 677,-235 677,-235 677,-229 683,-223 689,-223 689,-223 817,-223 817,-223 823,-223 829,-229 829,-235 829,-235 829,-294 829,-294 829,-300 823,-306 817,-306\"/>\n<text text-anchor=\"middle\" x=\"753\" y=\"-290.8\" font-family=\"Helvetica,sans-Serif\" font-size=\"14.00\" fill=\"#000000\">Year_Birth &lt;= 1954.5</text>\n<text text-anchor=\"middle\" x=\"753\" y=\"-275.8\" font-family=\"Helvetica,sans-Serif\" font-size=\"14.00\" fill=\"#000000\">gini = 0.494</text>\n<text text-anchor=\"middle\" x=\"753\" y=\"-260.8\" font-family=\"Helvetica,sans-Serif\" font-size=\"14.00\" fill=\"#000000\">samples = 9</text>\n<text text-anchor=\"middle\" x=\"753\" y=\"-245.8\" font-family=\"Helvetica,sans-Serif\" font-size=\"14.00\" fill=\"#000000\">value = [0, 0, 4, 5]</text>\n<text text-anchor=\"middle\" x=\"753\" y=\"-230.8\" font-family=\"Helvetica,sans-Serif\" font-size=\"14.00\" fill=\"#000000\">class = PhD</text>\n</g>\n<!-- 10&#45;&gt;11 -->\n<g id=\"edge11\" class=\"edge\">\n<title>10&#45;&gt;11</title>\n<path fill=\"none\" stroke=\"#000000\" d=\"M753,-341.8796C753,-333.6838 753,-324.9891 753,-316.5013\"/>\n<polygon fill=\"#000000\" stroke=\"#000000\" points=\"756.5001,-316.298 753,-306.2981 749.5001,-316.2981 756.5001,-316.298\"/>\n</g>\n<!-- 18 -->\n<g id=\"node19\" class=\"node\">\n<title>18</title>\n<path fill=\"#47e539\" stroke=\"#000000\" d=\"M973,-298.5C973,-298.5 859,-298.5 859,-298.5 853,-298.5 847,-292.5 847,-286.5 847,-286.5 847,-242.5 847,-242.5 847,-236.5 853,-230.5 859,-230.5 859,-230.5 973,-230.5 973,-230.5 979,-230.5 985,-236.5 985,-242.5 985,-242.5 985,-286.5 985,-286.5 985,-292.5 979,-298.5 973,-298.5\"/>\n<text text-anchor=\"middle\" x=\"916\" y=\"-283.3\" font-family=\"Helvetica,sans-Serif\" font-size=\"14.00\" fill=\"#000000\">gini = 0.0</text>\n<text text-anchor=\"middle\" x=\"916\" y=\"-268.3\" font-family=\"Helvetica,sans-Serif\" font-size=\"14.00\" fill=\"#000000\">samples = 3</text>\n<text text-anchor=\"middle\" x=\"916\" y=\"-253.3\" font-family=\"Helvetica,sans-Serif\" font-size=\"14.00\" fill=\"#000000\">value = [0, 3, 0, 0]</text>\n<text text-anchor=\"middle\" x=\"916\" y=\"-238.3\" font-family=\"Helvetica,sans-Serif\" font-size=\"14.00\" fill=\"#000000\">class = Graduation</text>\n</g>\n<!-- 10&#45;&gt;18 -->\n<g id=\"edge18\" class=\"edge\">\n<title>10&#45;&gt;18</title>\n<path fill=\"none\" stroke=\"#000000\" d=\"M810.0095,-341.8796C826.5051,-329.8368 844.4763,-316.7167 860.8559,-304.7586\"/>\n<polygon fill=\"#000000\" stroke=\"#000000\" points=\"863.2472,-307.3463 869.26,-298.623 859.1196,-301.6927 863.2472,-307.3463\"/>\n</g>\n<!-- 12 -->\n<g id=\"node13\" class=\"node\">\n<title>12</title>\n<path fill=\"#7bbeee\" stroke=\"#000000\" d=\"M817,-187C817,-187 689,-187 689,-187 683,-187 677,-181 677,-175 677,-175 677,-116 677,-116 677,-110 683,-104 689,-104 689,-104 817,-104 817,-104 823,-104 829,-110 829,-116 829,-116 829,-175 829,-175 829,-181 823,-187 817,-187\"/>\n<text text-anchor=\"middle\" x=\"753\" y=\"-171.8\" font-family=\"Helvetica,sans-Serif\" font-size=\"14.00\" fill=\"#000000\">Year_Birth &lt;= 1946.0</text>\n<text text-anchor=\"middle\" x=\"753\" y=\"-156.8\" font-family=\"Helvetica,sans-Serif\" font-size=\"14.00\" fill=\"#000000\">gini = 0.375</text>\n<text text-anchor=\"middle\" x=\"753\" y=\"-141.8\" font-family=\"Helvetica,sans-Serif\" font-size=\"14.00\" fill=\"#000000\">samples = 4</text>\n<text text-anchor=\"middle\" x=\"753\" y=\"-126.8\" font-family=\"Helvetica,sans-Serif\" font-size=\"14.00\" fill=\"#000000\">value = [0, 0, 3, 1]</text>\n<text text-anchor=\"middle\" x=\"753\" y=\"-111.8\" font-family=\"Helvetica,sans-Serif\" font-size=\"14.00\" fill=\"#000000\">class = Masters</text>\n</g>\n<!-- 11&#45;&gt;12 -->\n<g id=\"edge12\" class=\"edge\">\n<title>11&#45;&gt;12</title>\n<path fill=\"none\" stroke=\"#000000\" d=\"M753,-222.8796C753,-214.6838 753,-205.9891 753,-197.5013\"/>\n<polygon fill=\"#000000\" stroke=\"#000000\" points=\"756.5001,-197.298 753,-187.2981 749.5001,-197.2981 756.5001,-197.298\"/>\n</g>\n<!-- 15 -->\n<g id=\"node16\" class=\"node\">\n<title>15</title>\n<path fill=\"#e16aec\" stroke=\"#000000\" d=\"M1065,-187C1065,-187 947,-187 947,-187 941,-187 935,-181 935,-175 935,-175 935,-116 935,-116 935,-110 941,-104 947,-104 947,-104 1065,-104 1065,-104 1071,-104 1077,-110 1077,-116 1077,-116 1077,-175 1077,-175 1077,-181 1071,-187 1065,-187\"/>\n<text text-anchor=\"middle\" x=\"1006\" y=\"-171.8\" font-family=\"Helvetica,sans-Serif\" font-size=\"14.00\" fill=\"#000000\">Income &lt;= 80500.0</text>\n<text text-anchor=\"middle\" x=\"1006\" y=\"-156.8\" font-family=\"Helvetica,sans-Serif\" font-size=\"14.00\" fill=\"#000000\">gini = 0.32</text>\n<text text-anchor=\"middle\" x=\"1006\" y=\"-141.8\" font-family=\"Helvetica,sans-Serif\" font-size=\"14.00\" fill=\"#000000\">samples = 5</text>\n<text text-anchor=\"middle\" x=\"1006\" y=\"-126.8\" font-family=\"Helvetica,sans-Serif\" font-size=\"14.00\" fill=\"#000000\">value = [0, 0, 1, 4]</text>\n<text text-anchor=\"middle\" x=\"1006\" y=\"-111.8\" font-family=\"Helvetica,sans-Serif\" font-size=\"14.00\" fill=\"#000000\">class = PhD</text>\n</g>\n<!-- 11&#45;&gt;15 -->\n<g id=\"edge15\" class=\"edge\">\n<title>11&#45;&gt;15</title>\n<path fill=\"none\" stroke=\"#000000\" d=\"M829.4174,-227.0922C832.3128,-225.7061 835.1813,-224.338 838,-223 866.4163,-209.5107 897.6764,-195.0008 925.4461,-182.225\"/>\n<polygon fill=\"#000000\" stroke=\"#000000\" points=\"927.0958,-185.3188 934.7207,-177.9628 924.1727,-178.9583 927.0958,-185.3188\"/>\n</g>\n<!-- 13 -->\n<g id=\"node14\" class=\"node\">\n<title>13</title>\n<path fill=\"#d739e5\" stroke=\"#000000\" d=\"M761.5,-68C761.5,-68 654.5,-68 654.5,-68 648.5,-68 642.5,-62 642.5,-56 642.5,-56 642.5,-12 642.5,-12 642.5,-6 648.5,0 654.5,0 654.5,0 761.5,0 761.5,0 767.5,0 773.5,-6 773.5,-12 773.5,-12 773.5,-56 773.5,-56 773.5,-62 767.5,-68 761.5,-68\"/>\n<text text-anchor=\"middle\" x=\"708\" y=\"-52.8\" font-family=\"Helvetica,sans-Serif\" font-size=\"14.00\" fill=\"#000000\">gini = 0.0</text>\n<text text-anchor=\"middle\" x=\"708\" y=\"-37.8\" font-family=\"Helvetica,sans-Serif\" font-size=\"14.00\" fill=\"#000000\">samples = 1</text>\n<text text-anchor=\"middle\" x=\"708\" y=\"-22.8\" font-family=\"Helvetica,sans-Serif\" font-size=\"14.00\" fill=\"#000000\">value = [0, 0, 0, 1]</text>\n<text text-anchor=\"middle\" x=\"708\" y=\"-7.8\" font-family=\"Helvetica,sans-Serif\" font-size=\"14.00\" fill=\"#000000\">class = PhD</text>\n</g>\n<!-- 12&#45;&gt;13 -->\n<g id=\"edge13\" class=\"edge\">\n<title>12&#45;&gt;13</title>\n<path fill=\"none\" stroke=\"#000000\" d=\"M736.2437,-103.9815C732.7941,-95.4342 729.1514,-86.4086 725.6706,-77.7839\"/>\n<polygon fill=\"#000000\" stroke=\"#000000\" points=\"728.8167,-76.227 721.8284,-68.2637 722.3254,-78.8469 728.8167,-76.227\"/>\n</g>\n<!-- 14 -->\n<g id=\"node15\" class=\"node\">\n<title>14</title>\n<path fill=\"#399de5\" stroke=\"#000000\" d=\"M910.5,-68C910.5,-68 803.5,-68 803.5,-68 797.5,-68 791.5,-62 791.5,-56 791.5,-56 791.5,-12 791.5,-12 791.5,-6 797.5,0 803.5,0 803.5,0 910.5,0 910.5,0 916.5,0 922.5,-6 922.5,-12 922.5,-12 922.5,-56 922.5,-56 922.5,-62 916.5,-68 910.5,-68\"/>\n<text text-anchor=\"middle\" x=\"857\" y=\"-52.8\" font-family=\"Helvetica,sans-Serif\" font-size=\"14.00\" fill=\"#000000\">gini = 0.0</text>\n<text text-anchor=\"middle\" x=\"857\" y=\"-37.8\" font-family=\"Helvetica,sans-Serif\" font-size=\"14.00\" fill=\"#000000\">samples = 3</text>\n<text text-anchor=\"middle\" x=\"857\" y=\"-22.8\" font-family=\"Helvetica,sans-Serif\" font-size=\"14.00\" fill=\"#000000\">value = [0, 0, 3, 0]</text>\n<text text-anchor=\"middle\" x=\"857\" y=\"-7.8\" font-family=\"Helvetica,sans-Serif\" font-size=\"14.00\" fill=\"#000000\">class = Masters</text>\n</g>\n<!-- 12&#45;&gt;14 -->\n<g id=\"edge14\" class=\"edge\">\n<title>12&#45;&gt;14</title>\n<path fill=\"none\" stroke=\"#000000\" d=\"M791.7258,-103.9815C800.2982,-94.7908 809.3865,-85.0472 817.971,-75.8436\"/>\n<polygon fill=\"#000000\" stroke=\"#000000\" points=\"820.7796,-77.9637 825.0411,-68.2637 815.6607,-73.1891 820.7796,-77.9637\"/>\n</g>\n<!-- 16 -->\n<g id=\"node17\" class=\"node\">\n<title>16</title>\n<path fill=\"#d739e5\" stroke=\"#000000\" d=\"M1059.5,-68C1059.5,-68 952.5,-68 952.5,-68 946.5,-68 940.5,-62 940.5,-56 940.5,-56 940.5,-12 940.5,-12 940.5,-6 946.5,0 952.5,0 952.5,0 1059.5,0 1059.5,0 1065.5,0 1071.5,-6 1071.5,-12 1071.5,-12 1071.5,-56 1071.5,-56 1071.5,-62 1065.5,-68 1059.5,-68\"/>\n<text text-anchor=\"middle\" x=\"1006\" y=\"-52.8\" font-family=\"Helvetica,sans-Serif\" font-size=\"14.00\" fill=\"#000000\">gini = 0.0</text>\n<text text-anchor=\"middle\" x=\"1006\" y=\"-37.8\" font-family=\"Helvetica,sans-Serif\" font-size=\"14.00\" fill=\"#000000\">samples = 2</text>\n<text text-anchor=\"middle\" x=\"1006\" y=\"-22.8\" font-family=\"Helvetica,sans-Serif\" font-size=\"14.00\" fill=\"#000000\">value = [0, 0, 0, 2]</text>\n<text text-anchor=\"middle\" x=\"1006\" y=\"-7.8\" font-family=\"Helvetica,sans-Serif\" font-size=\"14.00\" fill=\"#000000\">class = PhD</text>\n</g>\n<!-- 15&#45;&gt;16 -->\n<g id=\"edge16\" class=\"edge\">\n<title>15&#45;&gt;16</title>\n<path fill=\"none\" stroke=\"#000000\" d=\"M1006,-103.9815C1006,-95.618 1006,-86.7965 1006,-78.3409\"/>\n<polygon fill=\"#000000\" stroke=\"#000000\" points=\"1009.5001,-78.2636 1006,-68.2637 1002.5001,-78.2637 1009.5001,-78.2636\"/>\n</g>\n<!-- 17 -->\n<g id=\"node18\" class=\"node\">\n<title>17</title>\n<path fill=\"#eb9cf2\" stroke=\"#000000\" d=\"M1208.5,-68C1208.5,-68 1101.5,-68 1101.5,-68 1095.5,-68 1089.5,-62 1089.5,-56 1089.5,-56 1089.5,-12 1089.5,-12 1089.5,-6 1095.5,0 1101.5,0 1101.5,0 1208.5,0 1208.5,0 1214.5,0 1220.5,-6 1220.5,-12 1220.5,-12 1220.5,-56 1220.5,-56 1220.5,-62 1214.5,-68 1208.5,-68\"/>\n<text text-anchor=\"middle\" x=\"1155\" y=\"-52.8\" font-family=\"Helvetica,sans-Serif\" font-size=\"14.00\" fill=\"#000000\">gini = 0.444</text>\n<text text-anchor=\"middle\" x=\"1155\" y=\"-37.8\" font-family=\"Helvetica,sans-Serif\" font-size=\"14.00\" fill=\"#000000\">samples = 3</text>\n<text text-anchor=\"middle\" x=\"1155\" y=\"-22.8\" font-family=\"Helvetica,sans-Serif\" font-size=\"14.00\" fill=\"#000000\">value = [0, 0, 1, 2]</text>\n<text text-anchor=\"middle\" x=\"1155\" y=\"-7.8\" font-family=\"Helvetica,sans-Serif\" font-size=\"14.00\" fill=\"#000000\">class = PhD</text>\n</g>\n<!-- 15&#45;&gt;17 -->\n<g id=\"edge17\" class=\"edge\">\n<title>15&#45;&gt;17</title>\n<path fill=\"none\" stroke=\"#000000\" d=\"M1061.4821,-103.9815C1074.3779,-94.3313 1088.0884,-84.0714 1100.9227,-74.4673\"/>\n<polygon fill=\"#000000\" stroke=\"#000000\" points=\"1103.3032,-77.0574 1109.2127,-68.2637 1099.1092,-71.4528 1103.3032,-77.0574\"/>\n</g>\n</g>\n</svg>\n"
          },
          "metadata": {},
          "execution_count": 44
        }
      ]
    },
    {
      "cell_type": "code",
      "metadata": {
        "colab": {
          "base_uri": "https://localhost:8080/"
        },
        "id": "HTz1pcWoA5Kp",
        "outputId": "ea29703c-6091-4c6c-a2f0-304166f991b9"
      },
      "source": [
        "##Inconsistent data outputs (Question 6)\n",
        "print(\"======== features = Year_Birth, Income, Kidhome, MntWines ========\") #Print features (X)\n",
        "print(\"======== 0 = Basic, 1 = Graduation, 2 = Master, 3 = PhD ========\") #Print classification labels for target (y)\n",
        "\n",
        "input1=[[1943, 98000, 0, 1150]] #input 1 -- Year_Birth= 1943, Income=98000, Kidhome=0, MntWines=900\n",
        "print(input1,tree_clf3.predict(input1)) #Output for input 1 with introduction of data inconsistencies\n",
        "\n",
        "input2=[[1988, 17000, 3, 2]] #input 2 -- Year_Birth= 1988, Income=17000, Kidhome=3, MntWines=2\n",
        "print(input2,tree_clf3.predict(input2)) #Output for input 2 with introduction of data inconsistencies\n",
        "\n",
        "input3=[[1977, 88000, 1, 550]] #input 3 -- Year_Birth= 1977, Income=88000, Kidhome=1, MntWines=550\n",
        "print(input3,tree_clf3.predict(input3)) #Output for input 3 with introduction of data inconsistencies"
      ],
      "execution_count": null,
      "outputs": [
        {
          "output_type": "stream",
          "name": "stdout",
          "text": [
            "======== features = Year_Birth, Income, Kidhome, MntWines ========\n",
            "======== 0 = Basic, 1 = Graduation, 2 = Master, 3 = PhD ========\n",
            "[[1943, 98000, 0, 1150]] [3]\n",
            "[[1988, 17000, 3, 2]] [1]\n",
            "[[1977, 88000, 1, 550]] [3]\n"
          ]
        }
      ]
    },
    {
      "cell_type": "markdown",
      "metadata": {
        "id": "8HINHdwuA1kj"
      },
      "source": [
        "APPENDIX [3]"
      ]
    },
    {
      "cell_type": "code",
      "metadata": {
        "colab": {
          "base_uri": "https://localhost:8080/",
          "height": 864
        },
        "id": "LudbZ5NTA4HX",
        "outputId": "9971e790-d097-4e02-f26a-9281d5af207a"
      },
      "source": [
        "##Data alteration (Alternative)\n",
        "\n",
        "mkt_df4=mkt_df.copy(deep=True) #Create new DataFrame for different data alteration work with a deep copy\n",
        "for e in range(1,5): #Loop through DataFrame to consider each 250 spent on wine yearly as an additional child\n",
        "  mkt_df4.loc[mkt_df4['MntWines'] >= e*250, 'Kidhome'] = mkt_df4['Kidhome']+1\n",
        "#Given looping through range(1,5), this would consider a maximum of 4 additional children at a yearly wine expense of 1000.\n",
        "#1 additional child at 250 yearly wine expense, 2 additional children at 500 yearly wine expense,\n",
        "#3 additional children at 750 yearly wine expense, and 4 additional children at 1000 or greater wine expense\n",
        "\n",
        "\n",
        "print(mkt_df4.head()) #Print head of new DataFrame for visualization purposes\n",
        "\n",
        "#Make tree for appendix data alteration\n",
        "mkt_npa4=mkt_df4.to_numpy() #Change DataFrame to np.array\n",
        "X4 = mkt_npa4[:,0:4] #X features - Year_Birth, Income, Kidhome, and MntWines\n",
        "y4 = mkt_npa4[:,4] #Y target - Education\n",
        "y4 = encoder.fit_transform(y4) #Encode for target variable (Education)\n",
        "\n",
        "\n",
        "#Use Gini measure in constructing decision tree\n",
        "tree_clf4 = DecisionTreeClassifier(max_depth=MAX_DEPTH, random_state=RANDOM_STATE) #Set parameters\n",
        "                                                      #for max_depth and random_state to defined constants\n",
        "                                                      #MAX_DEPTH and RANDOM_STATE\n",
        "#Apply the CART algorithm \n",
        "tree_clf4.fit(X4, y4) #Fit tree\n",
        "\n",
        "#Create the decision tree as \"mkt_tree4.dot\"\n",
        "export_graphviz( \n",
        "        tree_clf4, #Tree object\n",
        "        out_file=os.path.join(IMAGES_PATH, \"mkt_tree4.dot\"),\n",
        "        feature_names=np.asarray(COL_LIST[0:4]), #Use constant COL_LIST to name features\n",
        "        class_names=np.asarray(['Basic','Graduation','Masters','PhD']), #Class of target (y)\n",
        "        rounded=True,\n",
        "        filled=True\n",
        "    )\n",
        "\n",
        "Source.from_file(os.path.join(IMAGES_PATH, \"mkt_tree4.dot\"))  #Display tree"
      ],
      "execution_count": null,
      "outputs": [
        {
          "output_type": "stream",
          "name": "stdout",
          "text": [
            "      Year_Birth   Income  Kidhome  MntWines   Education\n",
            "783         1972  30467.0        1         1  Graduation\n",
            "1637        1945  69755.0        0       217  Graduation\n",
            "1907        1986  33235.0        1        45  Graduation\n",
            "1110        1954  76773.0        2       516  Graduation\n",
            "1143        1962  33419.0        0        56         PhD\n"
          ]
        },
        {
          "output_type": "execute_result",
          "data": {
            "text/plain": [
              "<graphviz.files.Source at 0x7f6292733b90>"
            ],
            "image/svg+xml": "<?xml version=\"1.0\" encoding=\"UTF-8\" standalone=\"no\"?>\n<!DOCTYPE svg PUBLIC \"-//W3C//DTD SVG 1.1//EN\"\n \"http://www.w3.org/Graphics/SVG/1.1/DTD/svg11.dtd\">\n<!-- Generated by graphviz version 2.40.1 (20161225.0304)\n -->\n<!-- Title: Tree Pages: 1 -->\n<svg width=\"1063pt\" height=\"552pt\"\n viewBox=\"0.00 0.00 1062.50 552.00\" xmlns=\"http://www.w3.org/2000/svg\" xmlns:xlink=\"http://www.w3.org/1999/xlink\">\n<g id=\"graph0\" class=\"graph\" transform=\"scale(1 1) rotate(0) translate(4 548)\">\n<title>Tree</title>\n<polygon fill=\"#ffffff\" stroke=\"transparent\" points=\"-4,4 -4,-548 1058.5,-548 1058.5,4 -4,4\"/>\n<!-- 0 -->\n<g id=\"node1\" class=\"node\">\n<title>0</title>\n<path fill=\"#a4f29d\" stroke=\"#000000\" d=\"M485,-544C485,-544 354,-544 354,-544 348,-544 342,-538 342,-532 342,-532 342,-473 342,-473 342,-467 348,-461 354,-461 354,-461 485,-461 485,-461 491,-461 497,-467 497,-473 497,-473 497,-532 497,-532 497,-538 491,-544 485,-544\"/>\n<text text-anchor=\"middle\" x=\"419.5\" y=\"-528.8\" font-family=\"Helvetica,sans-Serif\" font-size=\"14.00\" fill=\"#000000\">MntWines &lt;= 2.5</text>\n<text text-anchor=\"middle\" x=\"419.5\" y=\"-513.8\" font-family=\"Helvetica,sans-Serif\" font-size=\"14.00\" fill=\"#000000\">gini = 0.582</text>\n<text text-anchor=\"middle\" x=\"419.5\" y=\"-498.8\" font-family=\"Helvetica,sans-Serif\" font-size=\"14.00\" fill=\"#000000\">samples = 100</text>\n<text text-anchor=\"middle\" x=\"419.5\" y=\"-483.8\" font-family=\"Helvetica,sans-Serif\" font-size=\"14.00\" fill=\"#000000\">value = [4, 59, 18, 19]</text>\n<text text-anchor=\"middle\" x=\"419.5\" y=\"-468.8\" font-family=\"Helvetica,sans-Serif\" font-size=\"14.00\" fill=\"#000000\">class = Graduation</text>\n</g>\n<!-- 1 -->\n<g id=\"node2\" class=\"node\">\n<title>1</title>\n<path fill=\"#fbeade\" stroke=\"#000000\" d=\"M387,-425C387,-425 280,-425 280,-425 274,-425 268,-419 268,-413 268,-413 268,-354 268,-354 268,-348 274,-342 280,-342 280,-342 387,-342 387,-342 393,-342 399,-348 399,-354 399,-354 399,-413 399,-413 399,-419 393,-425 387,-425\"/>\n<text text-anchor=\"middle\" x=\"333.5\" y=\"-409.8\" font-family=\"Helvetica,sans-Serif\" font-size=\"14.00\" fill=\"#000000\">MntWines &lt;= 0.5</text>\n<text text-anchor=\"middle\" x=\"333.5\" y=\"-394.8\" font-family=\"Helvetica,sans-Serif\" font-size=\"14.00\" fill=\"#000000\">gini = 0.642</text>\n<text text-anchor=\"middle\" x=\"333.5\" y=\"-379.8\" font-family=\"Helvetica,sans-Serif\" font-size=\"14.00\" fill=\"#000000\">samples = 9</text>\n<text text-anchor=\"middle\" x=\"333.5\" y=\"-364.8\" font-family=\"Helvetica,sans-Serif\" font-size=\"14.00\" fill=\"#000000\">value = [4, 3, 2, 0]</text>\n<text text-anchor=\"middle\" x=\"333.5\" y=\"-349.8\" font-family=\"Helvetica,sans-Serif\" font-size=\"14.00\" fill=\"#000000\">class = Basic</text>\n</g>\n<!-- 0&#45;&gt;1 -->\n<g id=\"edge1\" class=\"edge\">\n<title>0&#45;&gt;1</title>\n<path fill=\"none\" stroke=\"#000000\" d=\"M389.4214,-460.8796C383.0428,-452.0534 376.246,-442.6485 369.6681,-433.5466\"/>\n<polygon fill=\"#000000\" stroke=\"#000000\" points=\"372.4012,-431.353 363.707,-425.2981 366.7277,-435.4532 372.4012,-431.353\"/>\n<text text-anchor=\"middle\" x=\"359.7338\" y=\"-446.2803\" font-family=\"Helvetica,sans-Serif\" font-size=\"14.00\" fill=\"#000000\">True</text>\n</g>\n<!-- 8 -->\n<g id=\"node9\" class=\"node\">\n<title>8</title>\n<path fill=\"#a0f299\" stroke=\"#000000\" d=\"M643,-425C643,-425 512,-425 512,-425 506,-425 500,-419 500,-413 500,-413 500,-354 500,-354 500,-348 506,-342 512,-342 512,-342 643,-342 643,-342 649,-342 655,-348 655,-354 655,-354 655,-413 655,-413 655,-419 649,-425 643,-425\"/>\n<text text-anchor=\"middle\" x=\"577.5\" y=\"-409.8\" font-family=\"Helvetica,sans-Serif\" font-size=\"14.00\" fill=\"#000000\">Income &lt;= 77259.0</text>\n<text text-anchor=\"middle\" x=\"577.5\" y=\"-394.8\" font-family=\"Helvetica,sans-Serif\" font-size=\"14.00\" fill=\"#000000\">gini = 0.547</text>\n<text text-anchor=\"middle\" x=\"577.5\" y=\"-379.8\" font-family=\"Helvetica,sans-Serif\" font-size=\"14.00\" fill=\"#000000\">samples = 91</text>\n<text text-anchor=\"middle\" x=\"577.5\" y=\"-364.8\" font-family=\"Helvetica,sans-Serif\" font-size=\"14.00\" fill=\"#000000\">value = [0, 56, 16, 19]</text>\n<text text-anchor=\"middle\" x=\"577.5\" y=\"-349.8\" font-family=\"Helvetica,sans-Serif\" font-size=\"14.00\" fill=\"#000000\">class = Graduation</text>\n</g>\n<!-- 0&#45;&gt;8 -->\n<g id=\"edge8\" class=\"edge\">\n<title>0&#45;&gt;8</title>\n<path fill=\"none\" stroke=\"#000000\" d=\"M474.7607,-460.8796C487.5099,-451.2774 501.1683,-440.9903 514.2291,-431.1534\"/>\n<polygon fill=\"#000000\" stroke=\"#000000\" points=\"516.3883,-433.9089 522.2705,-425.0969 512.1769,-428.3174 516.3883,-433.9089\"/>\n<text text-anchor=\"middle\" x=\"518.785\" y=\"-446.1528\" font-family=\"Helvetica,sans-Serif\" font-size=\"14.00\" fill=\"#000000\">False</text>\n</g>\n<!-- 2 -->\n<g id=\"node3\" class=\"node\">\n<title>2</title>\n<path fill=\"#399de5\" stroke=\"#000000\" d=\"M227,-298.5C227,-298.5 120,-298.5 120,-298.5 114,-298.5 108,-292.5 108,-286.5 108,-286.5 108,-242.5 108,-242.5 108,-236.5 114,-230.5 120,-230.5 120,-230.5 227,-230.5 227,-230.5 233,-230.5 239,-236.5 239,-242.5 239,-242.5 239,-286.5 239,-286.5 239,-292.5 233,-298.5 227,-298.5\"/>\n<text text-anchor=\"middle\" x=\"173.5\" y=\"-283.3\" font-family=\"Helvetica,sans-Serif\" font-size=\"14.00\" fill=\"#000000\">gini = 0.0</text>\n<text text-anchor=\"middle\" x=\"173.5\" y=\"-268.3\" font-family=\"Helvetica,sans-Serif\" font-size=\"14.00\" fill=\"#000000\">samples = 2</text>\n<text text-anchor=\"middle\" x=\"173.5\" y=\"-253.3\" font-family=\"Helvetica,sans-Serif\" font-size=\"14.00\" fill=\"#000000\">value = [0, 0, 2, 0]</text>\n<text text-anchor=\"middle\" x=\"173.5\" y=\"-238.3\" font-family=\"Helvetica,sans-Serif\" font-size=\"14.00\" fill=\"#000000\">class = Masters</text>\n</g>\n<!-- 1&#45;&gt;2 -->\n<g id=\"edge2\" class=\"edge\">\n<title>1&#45;&gt;2</title>\n<path fill=\"none\" stroke=\"#000000\" d=\"M277.5398,-341.8796C261.3478,-329.8368 243.7073,-316.7167 227.6292,-304.7586\"/>\n<polygon fill=\"#000000\" stroke=\"#000000\" points=\"229.4925,-301.7825 219.3797,-298.623 225.315,-307.3993 229.4925,-301.7825\"/>\n</g>\n<!-- 3 -->\n<g id=\"node4\" class=\"node\">\n<title>3</title>\n<path fill=\"#f8e0ce\" stroke=\"#000000\" d=\"M397.5,-306C397.5,-306 269.5,-306 269.5,-306 263.5,-306 257.5,-300 257.5,-294 257.5,-294 257.5,-235 257.5,-235 257.5,-229 263.5,-223 269.5,-223 269.5,-223 397.5,-223 397.5,-223 403.5,-223 409.5,-229 409.5,-235 409.5,-235 409.5,-294 409.5,-294 409.5,-300 403.5,-306 397.5,-306\"/>\n<text text-anchor=\"middle\" x=\"333.5\" y=\"-290.8\" font-family=\"Helvetica,sans-Serif\" font-size=\"14.00\" fill=\"#000000\">Year_Birth &lt;= 1977.5</text>\n<text text-anchor=\"middle\" x=\"333.5\" y=\"-275.8\" font-family=\"Helvetica,sans-Serif\" font-size=\"14.00\" fill=\"#000000\">gini = 0.49</text>\n<text text-anchor=\"middle\" x=\"333.5\" y=\"-260.8\" font-family=\"Helvetica,sans-Serif\" font-size=\"14.00\" fill=\"#000000\">samples = 7</text>\n<text text-anchor=\"middle\" x=\"333.5\" y=\"-245.8\" font-family=\"Helvetica,sans-Serif\" font-size=\"14.00\" fill=\"#000000\">value = [4, 3, 0, 0]</text>\n<text text-anchor=\"middle\" x=\"333.5\" y=\"-230.8\" font-family=\"Helvetica,sans-Serif\" font-size=\"14.00\" fill=\"#000000\">class = Basic</text>\n</g>\n<!-- 1&#45;&gt;3 -->\n<g id=\"edge3\" class=\"edge\">\n<title>1&#45;&gt;3</title>\n<path fill=\"none\" stroke=\"#000000\" d=\"M333.5,-341.8796C333.5,-333.6838 333.5,-324.9891 333.5,-316.5013\"/>\n<polygon fill=\"#000000\" stroke=\"#000000\" points=\"337.0001,-316.298 333.5,-306.2981 330.0001,-316.2981 337.0001,-316.298\"/>\n</g>\n<!-- 4 -->\n<g id=\"node5\" class=\"node\">\n<title>4</title>\n<path fill=\"#84ee7b\" stroke=\"#000000\" d=\"M237.5,-187C237.5,-187 123.5,-187 123.5,-187 117.5,-187 111.5,-181 111.5,-175 111.5,-175 111.5,-116 111.5,-116 111.5,-110 117.5,-104 123.5,-104 123.5,-104 237.5,-104 237.5,-104 243.5,-104 249.5,-110 249.5,-116 249.5,-116 249.5,-175 249.5,-175 249.5,-181 243.5,-187 237.5,-187\"/>\n<text text-anchor=\"middle\" x=\"180.5\" y=\"-171.8\" font-family=\"Helvetica,sans-Serif\" font-size=\"14.00\" fill=\"#000000\">Kidhome &lt;= 0.5</text>\n<text text-anchor=\"middle\" x=\"180.5\" y=\"-156.8\" font-family=\"Helvetica,sans-Serif\" font-size=\"14.00\" fill=\"#000000\">gini = 0.375</text>\n<text text-anchor=\"middle\" x=\"180.5\" y=\"-141.8\" font-family=\"Helvetica,sans-Serif\" font-size=\"14.00\" fill=\"#000000\">samples = 4</text>\n<text text-anchor=\"middle\" x=\"180.5\" y=\"-126.8\" font-family=\"Helvetica,sans-Serif\" font-size=\"14.00\" fill=\"#000000\">value = [1, 3, 0, 0]</text>\n<text text-anchor=\"middle\" x=\"180.5\" y=\"-111.8\" font-family=\"Helvetica,sans-Serif\" font-size=\"14.00\" fill=\"#000000\">class = Graduation</text>\n</g>\n<!-- 3&#45;&gt;4 -->\n<g id=\"edge4\" class=\"edge\">\n<title>3&#45;&gt;4</title>\n<path fill=\"none\" stroke=\"#000000\" d=\"M279.988,-222.8796C267.7588,-213.368 254.6656,-203.1843 242.1268,-193.432\"/>\n<polygon fill=\"#000000\" stroke=\"#000000\" points=\"244.0241,-190.4736 233.9818,-187.0969 239.7265,-195.9991 244.0241,-190.4736\"/>\n</g>\n<!-- 7 -->\n<g id=\"node8\" class=\"node\">\n<title>7</title>\n<path fill=\"#e58139\" stroke=\"#000000\" d=\"M387,-179.5C387,-179.5 280,-179.5 280,-179.5 274,-179.5 268,-173.5 268,-167.5 268,-167.5 268,-123.5 268,-123.5 268,-117.5 274,-111.5 280,-111.5 280,-111.5 387,-111.5 387,-111.5 393,-111.5 399,-117.5 399,-123.5 399,-123.5 399,-167.5 399,-167.5 399,-173.5 393,-179.5 387,-179.5\"/>\n<text text-anchor=\"middle\" x=\"333.5\" y=\"-164.3\" font-family=\"Helvetica,sans-Serif\" font-size=\"14.00\" fill=\"#000000\">gini = 0.0</text>\n<text text-anchor=\"middle\" x=\"333.5\" y=\"-149.3\" font-family=\"Helvetica,sans-Serif\" font-size=\"14.00\" fill=\"#000000\">samples = 3</text>\n<text text-anchor=\"middle\" x=\"333.5\" y=\"-134.3\" font-family=\"Helvetica,sans-Serif\" font-size=\"14.00\" fill=\"#000000\">value = [3, 0, 0, 0]</text>\n<text text-anchor=\"middle\" x=\"333.5\" y=\"-119.3\" font-family=\"Helvetica,sans-Serif\" font-size=\"14.00\" fill=\"#000000\">class = Basic</text>\n</g>\n<!-- 3&#45;&gt;7 -->\n<g id=\"edge7\" class=\"edge\">\n<title>3&#45;&gt;7</title>\n<path fill=\"none\" stroke=\"#000000\" d=\"M333.5,-222.8796C333.5,-212.2134 333.5,-200.7021 333.5,-189.9015\"/>\n<polygon fill=\"#000000\" stroke=\"#000000\" points=\"337.0001,-189.8149 333.5,-179.8149 330.0001,-189.815 337.0001,-189.8149\"/>\n</g>\n<!-- 5 -->\n<g id=\"node6\" class=\"node\">\n<title>5</title>\n<path fill=\"#ffffff\" stroke=\"#000000\" d=\"M119,-68C119,-68 12,-68 12,-68 6,-68 0,-62 0,-56 0,-56 0,-12 0,-12 0,-6 6,0 12,0 12,0 119,0 119,0 125,0 131,-6 131,-12 131,-12 131,-56 131,-56 131,-62 125,-68 119,-68\"/>\n<text text-anchor=\"middle\" x=\"65.5\" y=\"-52.8\" font-family=\"Helvetica,sans-Serif\" font-size=\"14.00\" fill=\"#000000\">gini = 0.5</text>\n<text text-anchor=\"middle\" x=\"65.5\" y=\"-37.8\" font-family=\"Helvetica,sans-Serif\" font-size=\"14.00\" fill=\"#000000\">samples = 2</text>\n<text text-anchor=\"middle\" x=\"65.5\" y=\"-22.8\" font-family=\"Helvetica,sans-Serif\" font-size=\"14.00\" fill=\"#000000\">value = [1, 1, 0, 0]</text>\n<text text-anchor=\"middle\" x=\"65.5\" y=\"-7.8\" font-family=\"Helvetica,sans-Serif\" font-size=\"14.00\" fill=\"#000000\">class = Basic</text>\n</g>\n<!-- 4&#45;&gt;5 -->\n<g id=\"edge5\" class=\"edge\">\n<title>4&#45;&gt;5</title>\n<path fill=\"none\" stroke=\"#000000\" d=\"M137.6782,-103.9815C128.0095,-94.607 117.7473,-84.6572 108.0882,-75.2921\"/>\n<polygon fill=\"#000000\" stroke=\"#000000\" points=\"110.4551,-72.7118 100.8392,-68.2637 105.5824,-77.7375 110.4551,-72.7118\"/>\n</g>\n<!-- 6 -->\n<g id=\"node7\" class=\"node\">\n<title>6</title>\n<path fill=\"#47e539\" stroke=\"#000000\" d=\"M275.5,-68C275.5,-68 161.5,-68 161.5,-68 155.5,-68 149.5,-62 149.5,-56 149.5,-56 149.5,-12 149.5,-12 149.5,-6 155.5,0 161.5,0 161.5,0 275.5,0 275.5,0 281.5,0 287.5,-6 287.5,-12 287.5,-12 287.5,-56 287.5,-56 287.5,-62 281.5,-68 275.5,-68\"/>\n<text text-anchor=\"middle\" x=\"218.5\" y=\"-52.8\" font-family=\"Helvetica,sans-Serif\" font-size=\"14.00\" fill=\"#000000\">gini = 0.0</text>\n<text text-anchor=\"middle\" x=\"218.5\" y=\"-37.8\" font-family=\"Helvetica,sans-Serif\" font-size=\"14.00\" fill=\"#000000\">samples = 2</text>\n<text text-anchor=\"middle\" x=\"218.5\" y=\"-22.8\" font-family=\"Helvetica,sans-Serif\" font-size=\"14.00\" fill=\"#000000\">value = [0, 2, 0, 0]</text>\n<text text-anchor=\"middle\" x=\"218.5\" y=\"-7.8\" font-family=\"Helvetica,sans-Serif\" font-size=\"14.00\" fill=\"#000000\">class = Graduation</text>\n</g>\n<!-- 4&#45;&gt;6 -->\n<g id=\"edge6\" class=\"edge\">\n<title>4&#45;&gt;6</title>\n<path fill=\"none\" stroke=\"#000000\" d=\"M194.6498,-103.9815C197.5628,-95.4342 200.6388,-86.4086 203.5781,-77.7839\"/>\n<polygon fill=\"#000000\" stroke=\"#000000\" points=\"206.9096,-78.8582 206.8227,-68.2637 200.2839,-76.6 206.9096,-78.8582\"/>\n</g>\n<!-- 9 -->\n<g id=\"node10\" class=\"node\">\n<title>9</title>\n<path fill=\"#92f089\" stroke=\"#000000\" d=\"M643,-306C643,-306 512,-306 512,-306 506,-306 500,-300 500,-294 500,-294 500,-235 500,-235 500,-229 506,-223 512,-223 512,-223 643,-223 643,-223 649,-223 655,-229 655,-235 655,-235 655,-294 655,-294 655,-300 649,-306 643,-306\"/>\n<text text-anchor=\"middle\" x=\"577.5\" y=\"-290.8\" font-family=\"Helvetica,sans-Serif\" font-size=\"14.00\" fill=\"#000000\">Income &lt;= 71133.0</text>\n<text text-anchor=\"middle\" x=\"577.5\" y=\"-275.8\" font-family=\"Helvetica,sans-Serif\" font-size=\"14.00\" fill=\"#000000\">gini = 0.5</text>\n<text text-anchor=\"middle\" x=\"577.5\" y=\"-260.8\" font-family=\"Helvetica,sans-Serif\" font-size=\"14.00\" fill=\"#000000\">samples = 78</text>\n<text text-anchor=\"middle\" x=\"577.5\" y=\"-245.8\" font-family=\"Helvetica,sans-Serif\" font-size=\"14.00\" fill=\"#000000\">value = [0, 52, 12, 14]</text>\n<text text-anchor=\"middle\" x=\"577.5\" y=\"-230.8\" font-family=\"Helvetica,sans-Serif\" font-size=\"14.00\" fill=\"#000000\">class = Graduation</text>\n</g>\n<!-- 8&#45;&gt;9 -->\n<g id=\"edge9\" class=\"edge\">\n<title>8&#45;&gt;9</title>\n<path fill=\"none\" stroke=\"#000000\" d=\"M577.5,-341.8796C577.5,-333.6838 577.5,-324.9891 577.5,-316.5013\"/>\n<polygon fill=\"#000000\" stroke=\"#000000\" points=\"581.0001,-316.298 577.5,-306.2981 574.0001,-316.2981 581.0001,-316.298\"/>\n</g>\n<!-- 14 -->\n<g id=\"node15\" class=\"node\">\n<title>14</title>\n<path fill=\"#fbe9fc\" stroke=\"#000000\" d=\"M886.5,-306C886.5,-306 758.5,-306 758.5,-306 752.5,-306 746.5,-300 746.5,-294 746.5,-294 746.5,-235 746.5,-235 746.5,-229 752.5,-223 758.5,-223 758.5,-223 886.5,-223 886.5,-223 892.5,-223 898.5,-229 898.5,-235 898.5,-235 898.5,-294 898.5,-294 898.5,-300 892.5,-306 886.5,-306\"/>\n<text text-anchor=\"middle\" x=\"822.5\" y=\"-290.8\" font-family=\"Helvetica,sans-Serif\" font-size=\"14.00\" fill=\"#000000\">Year_Birth &lt;= 1982.5</text>\n<text text-anchor=\"middle\" x=\"822.5\" y=\"-275.8\" font-family=\"Helvetica,sans-Serif\" font-size=\"14.00\" fill=\"#000000\">gini = 0.663</text>\n<text text-anchor=\"middle\" x=\"822.5\" y=\"-260.8\" font-family=\"Helvetica,sans-Serif\" font-size=\"14.00\" fill=\"#000000\">samples = 13</text>\n<text text-anchor=\"middle\" x=\"822.5\" y=\"-245.8\" font-family=\"Helvetica,sans-Serif\" font-size=\"14.00\" fill=\"#000000\">value = [0, 4, 4, 5]</text>\n<text text-anchor=\"middle\" x=\"822.5\" y=\"-230.8\" font-family=\"Helvetica,sans-Serif\" font-size=\"14.00\" fill=\"#000000\">class = PhD</text>\n</g>\n<!-- 8&#45;&gt;14 -->\n<g id=\"edge14\" class=\"edge\">\n<title>8&#45;&gt;14</title>\n<path fill=\"none\" stroke=\"#000000\" d=\"M655.0195,-345.8477C681.1037,-333.1782 710.3475,-318.9741 737.0098,-306.0238\"/>\n<polygon fill=\"#000000\" stroke=\"#000000\" points=\"738.8576,-309.0174 746.3235,-301.5 735.7992,-302.7208 738.8576,-309.0174\"/>\n</g>\n<!-- 10 -->\n<g id=\"node11\" class=\"node\">\n<title>10</title>\n<path fill=\"#99f192\" stroke=\"#000000\" d=\"M560,-187C560,-187 429,-187 429,-187 423,-187 417,-181 417,-175 417,-175 417,-116 417,-116 417,-110 423,-104 429,-104 429,-104 560,-104 560,-104 566,-104 572,-110 572,-116 572,-116 572,-175 572,-175 572,-181 566,-187 560,-187\"/>\n<text text-anchor=\"middle\" x=\"494.5\" y=\"-171.8\" font-family=\"Helvetica,sans-Serif\" font-size=\"14.00\" fill=\"#000000\">Income &lt;= 66836.0</text>\n<text text-anchor=\"middle\" x=\"494.5\" y=\"-156.8\" font-family=\"Helvetica,sans-Serif\" font-size=\"14.00\" fill=\"#000000\">gini = 0.526</text>\n<text text-anchor=\"middle\" x=\"494.5\" y=\"-141.8\" font-family=\"Helvetica,sans-Serif\" font-size=\"14.00\" fill=\"#000000\">samples = 72</text>\n<text text-anchor=\"middle\" x=\"494.5\" y=\"-126.8\" font-family=\"Helvetica,sans-Serif\" font-size=\"14.00\" fill=\"#000000\">value = [0, 46, 12, 14]</text>\n<text text-anchor=\"middle\" x=\"494.5\" y=\"-111.8\" font-family=\"Helvetica,sans-Serif\" font-size=\"14.00\" fill=\"#000000\">class = Graduation</text>\n</g>\n<!-- 9&#45;&gt;10 -->\n<g id=\"edge10\" class=\"edge\">\n<title>9&#45;&gt;10</title>\n<path fill=\"none\" stroke=\"#000000\" d=\"M548.4706,-222.8796C542.3145,-214.0534 535.7549,-204.6485 529.4064,-195.5466\"/>\n<polygon fill=\"#000000\" stroke=\"#000000\" points=\"532.2448,-193.4978 523.6533,-187.2981 526.5033,-197.5024 532.2448,-193.4978\"/>\n</g>\n<!-- 13 -->\n<g id=\"node14\" class=\"node\">\n<title>13</title>\n<path fill=\"#47e539\" stroke=\"#000000\" d=\"M716.5,-179.5C716.5,-179.5 602.5,-179.5 602.5,-179.5 596.5,-179.5 590.5,-173.5 590.5,-167.5 590.5,-167.5 590.5,-123.5 590.5,-123.5 590.5,-117.5 596.5,-111.5 602.5,-111.5 602.5,-111.5 716.5,-111.5 716.5,-111.5 722.5,-111.5 728.5,-117.5 728.5,-123.5 728.5,-123.5 728.5,-167.5 728.5,-167.5 728.5,-173.5 722.5,-179.5 716.5,-179.5\"/>\n<text text-anchor=\"middle\" x=\"659.5\" y=\"-164.3\" font-family=\"Helvetica,sans-Serif\" font-size=\"14.00\" fill=\"#000000\">gini = 0.0</text>\n<text text-anchor=\"middle\" x=\"659.5\" y=\"-149.3\" font-family=\"Helvetica,sans-Serif\" font-size=\"14.00\" fill=\"#000000\">samples = 6</text>\n<text text-anchor=\"middle\" x=\"659.5\" y=\"-134.3\" font-family=\"Helvetica,sans-Serif\" font-size=\"14.00\" fill=\"#000000\">value = [0, 6, 0, 0]</text>\n<text text-anchor=\"middle\" x=\"659.5\" y=\"-119.3\" font-family=\"Helvetica,sans-Serif\" font-size=\"14.00\" fill=\"#000000\">class = Graduation</text>\n</g>\n<!-- 9&#45;&gt;13 -->\n<g id=\"edge13\" class=\"edge\">\n<title>9&#45;&gt;13</title>\n<path fill=\"none\" stroke=\"#000000\" d=\"M606.1796,-222.8796C613.9083,-211.6636 622.2809,-199.5131 630.0508,-188.2372\"/>\n<polygon fill=\"#000000\" stroke=\"#000000\" points=\"633.0623,-190.0353 635.8544,-179.8149 627.2982,-186.0634 633.0623,-190.0353\"/>\n</g>\n<!-- 11 -->\n<g id=\"node12\" class=\"node\">\n<title>11</title>\n<path fill=\"#93f08b\" stroke=\"#000000\" d=\"M523,-68C523,-68 392,-68 392,-68 386,-68 380,-62 380,-56 380,-56 380,-12 380,-12 380,-6 386,0 392,0 392,0 523,0 523,0 529,0 535,-6 535,-12 535,-12 535,-56 535,-56 535,-62 529,-68 523,-68\"/>\n<text text-anchor=\"middle\" x=\"457.5\" y=\"-52.8\" font-family=\"Helvetica,sans-Serif\" font-size=\"14.00\" fill=\"#000000\">gini = 0.505</text>\n<text text-anchor=\"middle\" x=\"457.5\" y=\"-37.8\" font-family=\"Helvetica,sans-Serif\" font-size=\"14.00\" fill=\"#000000\">samples = 65</text>\n<text text-anchor=\"middle\" x=\"457.5\" y=\"-22.8\" font-family=\"Helvetica,sans-Serif\" font-size=\"14.00\" fill=\"#000000\">value = [0, 43, 12, 10]</text>\n<text text-anchor=\"middle\" x=\"457.5\" y=\"-7.8\" font-family=\"Helvetica,sans-Serif\" font-size=\"14.00\" fill=\"#000000\">class = Graduation</text>\n</g>\n<!-- 10&#45;&gt;11 -->\n<g id=\"edge11\" class=\"edge\">\n<title>10&#45;&gt;11</title>\n<path fill=\"none\" stroke=\"#000000\" d=\"M480.7226,-103.9815C477.8862,-95.4342 474.8912,-86.4086 472.0292,-77.7839\"/>\n<polygon fill=\"#000000\" stroke=\"#000000\" points=\"475.3415,-76.6524 468.87,-68.2637 468.6977,-78.8571 475.3415,-76.6524\"/>\n</g>\n<!-- 12 -->\n<g id=\"node13\" class=\"node\">\n<title>12</title>\n<path fill=\"#f5cef8\" stroke=\"#000000\" d=\"M672,-68C672,-68 565,-68 565,-68 559,-68 553,-62 553,-56 553,-56 553,-12 553,-12 553,-6 559,0 565,0 565,0 672,0 672,0 678,0 684,-6 684,-12 684,-12 684,-56 684,-56 684,-62 678,-68 672,-68\"/>\n<text text-anchor=\"middle\" x=\"618.5\" y=\"-52.8\" font-family=\"Helvetica,sans-Serif\" font-size=\"14.00\" fill=\"#000000\">gini = 0.49</text>\n<text text-anchor=\"middle\" x=\"618.5\" y=\"-37.8\" font-family=\"Helvetica,sans-Serif\" font-size=\"14.00\" fill=\"#000000\">samples = 7</text>\n<text text-anchor=\"middle\" x=\"618.5\" y=\"-22.8\" font-family=\"Helvetica,sans-Serif\" font-size=\"14.00\" fill=\"#000000\">value = [0, 3, 0, 4]</text>\n<text text-anchor=\"middle\" x=\"618.5\" y=\"-7.8\" font-family=\"Helvetica,sans-Serif\" font-size=\"14.00\" fill=\"#000000\">class = PhD</text>\n</g>\n<!-- 10&#45;&gt;12 -->\n<g id=\"edge12\" class=\"edge\">\n<title>10&#45;&gt;12</title>\n<path fill=\"none\" stroke=\"#000000\" d=\"M540.673,-103.9815C551.2007,-94.5151 562.3808,-84.462 572.8849,-75.0168\"/>\n<polygon fill=\"#000000\" stroke=\"#000000\" points=\"575.2994,-77.5526 580.3951,-68.2637 570.6189,-72.3475 575.2994,-77.5526\"/>\n</g>\n<!-- 15 -->\n<g id=\"node16\" class=\"node\">\n<title>15</title>\n<path fill=\"#f7d7fa\" stroke=\"#000000\" d=\"M886.5,-187C886.5,-187 758.5,-187 758.5,-187 752.5,-187 746.5,-181 746.5,-175 746.5,-175 746.5,-116 746.5,-116 746.5,-110 752.5,-104 758.5,-104 758.5,-104 886.5,-104 886.5,-104 892.5,-104 898.5,-110 898.5,-116 898.5,-116 898.5,-175 898.5,-175 898.5,-181 892.5,-187 886.5,-187\"/>\n<text text-anchor=\"middle\" x=\"822.5\" y=\"-171.8\" font-family=\"Helvetica,sans-Serif\" font-size=\"14.00\" fill=\"#000000\">Year_Birth &lt;= 1954.5</text>\n<text text-anchor=\"middle\" x=\"822.5\" y=\"-156.8\" font-family=\"Helvetica,sans-Serif\" font-size=\"14.00\" fill=\"#000000\">gini = 0.494</text>\n<text text-anchor=\"middle\" x=\"822.5\" y=\"-141.8\" font-family=\"Helvetica,sans-Serif\" font-size=\"14.00\" fill=\"#000000\">samples = 9</text>\n<text text-anchor=\"middle\" x=\"822.5\" y=\"-126.8\" font-family=\"Helvetica,sans-Serif\" font-size=\"14.00\" fill=\"#000000\">value = [0, 0, 4, 5]</text>\n<text text-anchor=\"middle\" x=\"822.5\" y=\"-111.8\" font-family=\"Helvetica,sans-Serif\" font-size=\"14.00\" fill=\"#000000\">class = PhD</text>\n</g>\n<!-- 14&#45;&gt;15 -->\n<g id=\"edge15\" class=\"edge\">\n<title>14&#45;&gt;15</title>\n<path fill=\"none\" stroke=\"#000000\" d=\"M822.5,-222.8796C822.5,-214.6838 822.5,-205.9891 822.5,-197.5013\"/>\n<polygon fill=\"#000000\" stroke=\"#000000\" points=\"826.0001,-197.298 822.5,-187.2981 819.0001,-197.2981 826.0001,-197.298\"/>\n</g>\n<!-- 18 -->\n<g id=\"node19\" class=\"node\">\n<title>18</title>\n<path fill=\"#47e539\" stroke=\"#000000\" d=\"M1042.5,-179.5C1042.5,-179.5 928.5,-179.5 928.5,-179.5 922.5,-179.5 916.5,-173.5 916.5,-167.5 916.5,-167.5 916.5,-123.5 916.5,-123.5 916.5,-117.5 922.5,-111.5 928.5,-111.5 928.5,-111.5 1042.5,-111.5 1042.5,-111.5 1048.5,-111.5 1054.5,-117.5 1054.5,-123.5 1054.5,-123.5 1054.5,-167.5 1054.5,-167.5 1054.5,-173.5 1048.5,-179.5 1042.5,-179.5\"/>\n<text text-anchor=\"middle\" x=\"985.5\" y=\"-164.3\" font-family=\"Helvetica,sans-Serif\" font-size=\"14.00\" fill=\"#000000\">gini = 0.0</text>\n<text text-anchor=\"middle\" x=\"985.5\" y=\"-149.3\" font-family=\"Helvetica,sans-Serif\" font-size=\"14.00\" fill=\"#000000\">samples = 4</text>\n<text text-anchor=\"middle\" x=\"985.5\" y=\"-134.3\" font-family=\"Helvetica,sans-Serif\" font-size=\"14.00\" fill=\"#000000\">value = [0, 4, 0, 0]</text>\n<text text-anchor=\"middle\" x=\"985.5\" y=\"-119.3\" font-family=\"Helvetica,sans-Serif\" font-size=\"14.00\" fill=\"#000000\">class = Graduation</text>\n</g>\n<!-- 14&#45;&gt;18 -->\n<g id=\"edge18\" class=\"edge\">\n<title>14&#45;&gt;18</title>\n<path fill=\"none\" stroke=\"#000000\" d=\"M879.5095,-222.8796C896.0051,-210.8368 913.9763,-197.7167 930.3559,-185.7586\"/>\n<polygon fill=\"#000000\" stroke=\"#000000\" points=\"932.7472,-188.3463 938.76,-179.623 928.6196,-182.6927 932.7472,-188.3463\"/>\n</g>\n<!-- 16 -->\n<g id=\"node17\" class=\"node\">\n<title>16</title>\n<path fill=\"#7bbeee\" stroke=\"#000000\" d=\"M830,-68C830,-68 723,-68 723,-68 717,-68 711,-62 711,-56 711,-56 711,-12 711,-12 711,-6 717,0 723,0 723,0 830,0 830,0 836,0 842,-6 842,-12 842,-12 842,-56 842,-56 842,-62 836,-68 830,-68\"/>\n<text text-anchor=\"middle\" x=\"776.5\" y=\"-52.8\" font-family=\"Helvetica,sans-Serif\" font-size=\"14.00\" fill=\"#000000\">gini = 0.375</text>\n<text text-anchor=\"middle\" x=\"776.5\" y=\"-37.8\" font-family=\"Helvetica,sans-Serif\" font-size=\"14.00\" fill=\"#000000\">samples = 4</text>\n<text text-anchor=\"middle\" x=\"776.5\" y=\"-22.8\" font-family=\"Helvetica,sans-Serif\" font-size=\"14.00\" fill=\"#000000\">value = [0, 0, 3, 1]</text>\n<text text-anchor=\"middle\" x=\"776.5\" y=\"-7.8\" font-family=\"Helvetica,sans-Serif\" font-size=\"14.00\" fill=\"#000000\">class = Masters</text>\n</g>\n<!-- 15&#45;&gt;16 -->\n<g id=\"edge16\" class=\"edge\">\n<title>15&#45;&gt;16</title>\n<path fill=\"none\" stroke=\"#000000\" d=\"M805.3713,-103.9815C801.845,-95.4342 798.1215,-86.4086 794.5633,-77.7839\"/>\n<polygon fill=\"#000000\" stroke=\"#000000\" points=\"797.685,-76.1731 790.6357,-68.2637 791.214,-78.8427 797.685,-76.1731\"/>\n</g>\n<!-- 17 -->\n<g id=\"node18\" class=\"node\">\n<title>17</title>\n<path fill=\"#e16aec\" stroke=\"#000000\" d=\"M979,-68C979,-68 872,-68 872,-68 866,-68 860,-62 860,-56 860,-56 860,-12 860,-12 860,-6 866,0 872,0 872,0 979,0 979,0 985,0 991,-6 991,-12 991,-12 991,-56 991,-56 991,-62 985,-68 979,-68\"/>\n<text text-anchor=\"middle\" x=\"925.5\" y=\"-52.8\" font-family=\"Helvetica,sans-Serif\" font-size=\"14.00\" fill=\"#000000\">gini = 0.32</text>\n<text text-anchor=\"middle\" x=\"925.5\" y=\"-37.8\" font-family=\"Helvetica,sans-Serif\" font-size=\"14.00\" fill=\"#000000\">samples = 5</text>\n<text text-anchor=\"middle\" x=\"925.5\" y=\"-22.8\" font-family=\"Helvetica,sans-Serif\" font-size=\"14.00\" fill=\"#000000\">value = [0, 0, 1, 4]</text>\n<text text-anchor=\"middle\" x=\"925.5\" y=\"-7.8\" font-family=\"Helvetica,sans-Serif\" font-size=\"14.00\" fill=\"#000000\">class = PhD</text>\n</g>\n<!-- 15&#45;&gt;17 -->\n<g id=\"edge17\" class=\"edge\">\n<title>15&#45;&gt;17</title>\n<path fill=\"none\" stroke=\"#000000\" d=\"M860.8534,-103.9815C869.3434,-94.7908 878.3443,-85.0472 886.8463,-75.8436\"/>\n<polygon fill=\"#000000\" stroke=\"#000000\" points=\"889.6337,-77.9842 893.8484,-68.2637 884.4919,-73.2343 889.6337,-77.9842\"/>\n</g>\n</g>\n</svg>\n"
          },
          "metadata": {},
          "execution_count": 46
        }
      ]
    },
    {
      "cell_type": "code",
      "metadata": {
        "colab": {
          "base_uri": "https://localhost:8080/"
        },
        "id": "ihWiEY7xBcKQ",
        "outputId": "295a5217-7951-48e0-e78a-564fdf2f4f70"
      },
      "source": [
        "##Data alteration outputs (Appendix)\n",
        "\n",
        "print(\"======== features = Year_Birth, Income, Kidhome, MntWines ========\") #Print features (X)\n",
        "print(\"======== 0 = Basic, 1 = Graduation, 2 = Master, 3 = PhD ========\") #Print classification labels for target (y)\n",
        "\n",
        "input1=[[1943, 98000, 0, 1150]] #input 1 -- Year_Birth= 1943, Income=98000, Kidhome=0, MntWines=900\n",
        "print(input1,tree_clf4.predict(input1)) #Output for input 1 with appendix data alterations\n",
        "\n",
        "input2=[[1988, 17000, 3, 2]] #input 2 -- Year_Birth= 1988, Income=17000, Kidhome=3, MntWines=2\n",
        "print(input2,tree_clf4.predict(input2)) #Output for input 2 with appendix data alterations\n",
        "\n",
        "input3=[[1977, 88000, 1, 550]] #input 3 -- Year_Birth= 1977, Income=88000, Kidhome=1, MntWines=550\n",
        "print(input3,tree_clf4.predict(input3)) #Output for input 3 with appendix data alterations"
      ],
      "execution_count": null,
      "outputs": [
        {
          "output_type": "stream",
          "name": "stdout",
          "text": [
            "======== features = Year_Birth, Income, Kidhome, MntWines ========\n",
            "======== 0 = Basic, 1 = Graduation, 2 = Master, 3 = PhD ========\n",
            "[[1943, 98000, 0, 1150]] [2]\n",
            "[[1988, 17000, 3, 2]] [0]\n",
            "[[1977, 88000, 1, 550]] [3]\n"
          ]
        }
      ]
    },
    {
      "cell_type": "code",
      "metadata": {
        "colab": {
          "base_uri": "https://localhost:8080/"
        },
        "id": "ouZ7iYKoIbMl",
        "outputId": "46f4078c-79c0-4d81-ff8c-b1cda9a7128e"
      },
      "source": [
        "##Means of MntWines by Education level\n",
        "\n",
        "print(\"======== Mean MntWines among all individuals with 'Basic' Education level ========\") #Print\n",
        "print(mkt_df.loc[(mkt_df.Education == 'Basic'),'MntWines'].mean()) #Mean of MntWines by 'Basic' Education level\n",
        "print('')\n",
        "\n",
        "print(\"======== Mean MntWines among all individuals with 'Graduation' Education level ========\") #Print\n",
        "print(mkt_df.loc[(mkt_df.Education == 'Graduation'),'MntWines'].mean()) #Mean of MntWines by 'Graduation' Education level\n",
        "print('')\n",
        "\n",
        "print(\"======== Mean MntWines among all individuals with 'Master' Education level ========\") #Print\n",
        "print(mkt_df.loc[(mkt_df.Education == 'Master'),'MntWines'].mean()) #Mean of MntWines by 'Master' Education level\n",
        "print('')\n",
        "\n",
        "print(\"======== Mean MntWines among all individuals with 'PhD' Education level ========\") #Print\n",
        "print(mkt_df.loc[(mkt_df.Education == 'PhD'),'MntWines'].mean()) #Mean of MntWines by 'PhD' Education level\n",
        "print('')"
      ],
      "execution_count": null,
      "outputs": [
        {
          "output_type": "stream",
          "name": "stdout",
          "text": [
            "======== Mean MntWines among all individuals with 'Basic' Education level ========\n",
            "1.25\n",
            "\n",
            "======== Mean MntWines among all individuals with 'Graduation' Education level ========\n",
            "261.3220338983051\n",
            "\n",
            "======== Mean MntWines among all individuals with 'Master' Education level ========\n",
            "246.83333333333334\n",
            "\n",
            "======== Mean MntWines among all individuals with 'PhD' Education level ========\n",
            "391.2631578947368\n",
            "\n"
          ]
        }
      ]
    }
  ]
}